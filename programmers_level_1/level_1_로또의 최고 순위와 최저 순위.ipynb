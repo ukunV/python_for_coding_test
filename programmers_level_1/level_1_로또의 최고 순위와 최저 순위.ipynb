{
 "cells": [
  {
   "cell_type": "markdown",
   "metadata": {},
   "source": [
    "<b> Level_1_로또의 최고 순위와 최저 순위"
   ]
  },
  {
   "cell_type": "markdown",
   "metadata": {},
   "source": [
    "try)"
   ]
  },
  {
   "cell_type": "code",
   "execution_count": null,
   "metadata": {},
   "outputs": [],
   "source": [
    "def solution(lottos, win_nums):\n",
    "    zero = lottos.count(0)\n",
    "    ans = 0\n",
    "    \n",
    "    for i in range(len(lottos)):\n",
    "        if lottos[i] in win_nums:\n",
    "            ans += 1\n",
    "        \n",
    "    return [7 - (zero + ans) if (zero + ans) >= 2 else 6, 7 - ans if ans >= 2 else 6]"
   ]
  },
  {
   "cell_type": "markdown",
   "metadata": {},
   "source": [
    "ans)"
   ]
  },
  {
   "cell_type": "code",
   "execution_count": null,
   "metadata": {},
   "outputs": [],
   "source": [
    "def solution(lottos, win_nums):\n",
    "    rank = {\n",
    "        0: 6,\n",
    "        1: 6,\n",
    "        2: 5,\n",
    "        3: 4,\n",
    "        4: 3,\n",
    "        5: 2,\n",
    "        6: 1\n",
    "    }\n",
    "    return [rank[len(set(lottos) & set(win_nums)) + lottos.count(0)], rank[len(set(lottos) & set(win_nums))]]"
   ]
  },
  {
   "cell_type": "code",
   "execution_count": null,
   "metadata": {},
   "outputs": [],
   "source": [
    "def solution(lottos, win_nums):\n",
    "    dic = {6:1, 5:2, 4:3, 3:4, 2:5, 1:6, 0:6}\n",
    "    worst = len(set(lottos).intersection(set(win_nums)))\n",
    "\n",
    "    if 0 in lottos:\n",
    "        best = worst + lottos.count(0)\n",
    "        return [dic[best], dic[worst]]\n",
    "    else:\n",
    "        return [dic[worst], dic[worst]]"
   ]
  }
 ],
 "metadata": {
  "kernelspec": {
   "display_name": "Python 3",
   "language": "python",
   "name": "python3"
  },
  "language_info": {
   "codemirror_mode": {
    "name": "ipython",
    "version": 3
   },
   "file_extension": ".py",
   "mimetype": "text/x-python",
   "name": "python",
   "nbconvert_exporter": "python",
   "pygments_lexer": "ipython3",
   "version": "3.7.6"
  },
  "toc": {
   "base_numbering": 1,
   "nav_menu": {},
   "number_sections": true,
   "sideBar": true,
   "skip_h1_title": false,
   "title_cell": "Table of Contents",
   "title_sidebar": "Contents",
   "toc_cell": false,
   "toc_position": {},
   "toc_section_display": true,
   "toc_window_display": false
  },
  "varInspector": {
   "cols": {
    "lenName": 16,
    "lenType": 16,
    "lenVar": 40
   },
   "kernels_config": {
    "python": {
     "delete_cmd_postfix": "",
     "delete_cmd_prefix": "del ",
     "library": "var_list.py",
     "varRefreshCmd": "print(var_dic_list())"
    },
    "r": {
     "delete_cmd_postfix": ") ",
     "delete_cmd_prefix": "rm(",
     "library": "var_list.r",
     "varRefreshCmd": "cat(var_dic_list()) "
    }
   },
   "types_to_exclude": [
    "module",
    "function",
    "builtin_function_or_method",
    "instance",
    "_Feature"
   ],
   "window_display": false
  }
 },
 "nbformat": 4,
 "nbformat_minor": 4
}

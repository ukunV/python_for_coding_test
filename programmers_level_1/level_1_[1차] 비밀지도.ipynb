{
 "cells": [
  {
   "cell_type": "markdown",
   "metadata": {
    "ExecuteTime": {
     "end_time": "2021-09-04T16:23:06.753490Z",
     "start_time": "2021-09-04T16:23:06.736024Z"
    }
   },
   "source": [
    "<b> Level_1_[1차] 비밀지도"
   ]
  },
  {
   "cell_type": "markdown",
   "metadata": {},
   "source": [
    "try)"
   ]
  },
  {
   "cell_type": "code",
   "execution_count": null,
   "metadata": {},
   "outputs": [],
   "source": [
    "def solution(n, arr1, arr2):\n",
    "    answer = []\n",
    "    \n",
    "    arr1 = ['0' * (n - len(bin(i)[2:])) + bin(i)[2:] for i in arr1]\n",
    "    arr2 = ['0' * (n - len(bin(i)[2:])) + bin(i)[2:] for i in arr2]\n",
    "    \n",
    "    for i in range(n):\n",
    "        t = ''\n",
    "        for j in range(n):\n",
    "            if arr1[i][j] == '0' and arr2[i][j] == '0':\n",
    "                t += '0'\n",
    "            else:\n",
    "                t += '1'\n",
    "        answer.append(t)\n",
    "    \n",
    "    for i in range(n):\n",
    "        answer[i] = answer[i].replace('1', '#')\n",
    "        answer[i] = answer[i].replace('0', ' ')\n",
    "    \n",
    "    return answer"
   ]
  },
  {
   "cell_type": "markdown",
   "metadata": {},
   "source": [
    "ans)"
   ]
  },
  {
   "cell_type": "code",
   "execution_count": null,
   "metadata": {},
   "outputs": [],
   "source": [
    "def solution(n, arr1, arr2):\n",
    "    answer = []\n",
    "    \n",
    "    for i, j in zip(arr1, arr2):\n",
    "        t = str(bin(i | j)[2:])\n",
    "        t = t.rjust(n, '0')\n",
    "        t = t.replace('1', '#')\n",
    "        t = t.replace('0', ' ')\n",
    "        answer.append(t)\n",
    "        \n",
    "    return answer"
   ]
  }
 ],
 "metadata": {
  "kernelspec": {
   "display_name": "Python 3",
   "language": "python",
   "name": "python3"
  },
  "language_info": {
   "codemirror_mode": {
    "name": "ipython",
    "version": 3
   },
   "file_extension": ".py",
   "mimetype": "text/x-python",
   "name": "python",
   "nbconvert_exporter": "python",
   "pygments_lexer": "ipython3",
   "version": "3.7.6"
  },
  "toc": {
   "base_numbering": 1,
   "nav_menu": {},
   "number_sections": true,
   "sideBar": true,
   "skip_h1_title": false,
   "title_cell": "Table of Contents",
   "title_sidebar": "Contents",
   "toc_cell": false,
   "toc_position": {},
   "toc_section_display": true,
   "toc_window_display": false
  },
  "varInspector": {
   "cols": {
    "lenName": 16,
    "lenType": 16,
    "lenVar": 40
   },
   "kernels_config": {
    "python": {
     "delete_cmd_postfix": "",
     "delete_cmd_prefix": "del ",
     "library": "var_list.py",
     "varRefreshCmd": "print(var_dic_list())"
    },
    "r": {
     "delete_cmd_postfix": ") ",
     "delete_cmd_prefix": "rm(",
     "library": "var_list.r",
     "varRefreshCmd": "cat(var_dic_list()) "
    }
   },
   "types_to_exclude": [
    "module",
    "function",
    "builtin_function_or_method",
    "instance",
    "_Feature"
   ],
   "window_display": false
  }
 },
 "nbformat": 4,
 "nbformat_minor": 4
}

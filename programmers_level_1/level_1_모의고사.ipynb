{
 "cells": [
  {
   "cell_type": "markdown",
   "metadata": {},
   "source": [
    "<b>Level 1_모의고사"
   ]
  },
  {
   "cell_type": "markdown",
   "metadata": {},
   "source": [
    "try)"
   ]
  },
  {
   "cell_type": "code",
   "execution_count": 1,
   "metadata": {
    "ExecuteTime": {
     "end_time": "2020-09-10T13:17:09.979213Z",
     "start_time": "2020-09-10T13:17:09.957271Z"
    }
   },
   "outputs": [],
   "source": [
    "def solution(answer):\n",
    "    \n",
    "    p1 = [1, 2, 3, 4, 5]\n",
    "    p2 = [2, 1, 2, 3, 2, 4, 2, 5]\n",
    "    p3 = [3, 3, 1, 1, 2, 2, 4, 4, 5, 5]\n",
    "    \n",
    "    count = [0, 0, 0]\n",
    "    \n",
    "    for i in range(len(answer)):         \n",
    "        if answer[i % len(p1)] == p1[i]:\n",
    "            count[0] += 1\n",
    "        if answer[i % len(p2)] == p2[i]:\n",
    "            count[1] += 1\n",
    "        if answer[i % len(p3)] == p3[i]:\n",
    "            count[2] += 1\n",
    "\n",
    "\n",
    "    return [i + 1 for i in range(3) if count[i] == max(count)]"
   ]
  },
  {
   "cell_type": "markdown",
   "metadata": {},
   "source": [
    "ans)"
   ]
  },
  {
   "cell_type": "code",
   "execution_count": null,
   "metadata": {},
   "outputs": [],
   "source": [
    "def solution(answers):\n",
    "    \n",
    "    p = [[1, 2, 3, 4, 5],\n",
    "         [2, 1, 2, 3, 2, 4, 2, 5],\n",
    "         [3, 3, 1, 1, 2, 2, 4, 4, 5, 5]]\n",
    "    \n",
    "    s = [0] * len(p)\n",
    "\n",
    "    for i, j in enumerate(answers):\n",
    "        for m, n in enumerate(p):\n",
    "            if j == n[m % len(n)]:\n",
    "                s[m] += 1\n",
    "                \n",
    "    return [i + 1 for i, v in enumerate(s) if v == max(s)]"
   ]
  }
 ],
 "metadata": {
  "kernelspec": {
   "display_name": "Python 3",
   "language": "python",
   "name": "python3"
  },
  "language_info": {
   "codemirror_mode": {
    "name": "ipython",
    "version": 3
   },
   "file_extension": ".py",
   "mimetype": "text/x-python",
   "name": "python",
   "nbconvert_exporter": "python",
   "pygments_lexer": "ipython3",
   "version": "3.7.6"
  },
  "toc": {
   "base_numbering": 1,
   "nav_menu": {},
   "number_sections": true,
   "sideBar": true,
   "skip_h1_title": false,
   "title_cell": "Table of Contents",
   "title_sidebar": "Contents",
   "toc_cell": false,
   "toc_position": {},
   "toc_section_display": true,
   "toc_window_display": false
  },
  "varInspector": {
   "cols": {
    "lenName": 16,
    "lenType": 16,
    "lenVar": 40
   },
   "kernels_config": {
    "python": {
     "delete_cmd_postfix": "",
     "delete_cmd_prefix": "del ",
     "library": "var_list.py",
     "varRefreshCmd": "print(var_dic_list())"
    },
    "r": {
     "delete_cmd_postfix": ") ",
     "delete_cmd_prefix": "rm(",
     "library": "var_list.r",
     "varRefreshCmd": "cat(var_dic_list()) "
    }
   },
   "types_to_exclude": [
    "module",
    "function",
    "builtin_function_or_method",
    "instance",
    "_Feature"
   ],
   "window_display": false
  }
 },
 "nbformat": 4,
 "nbformat_minor": 4
}

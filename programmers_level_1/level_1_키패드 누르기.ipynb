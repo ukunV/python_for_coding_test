{
 "cells": [
  {
   "cell_type": "markdown",
   "metadata": {},
   "source": [
    "<b> Level_1_키패드 누르기"
   ]
  },
  {
   "cell_type": "markdown",
   "metadata": {},
   "source": [
    "try)"
   ]
  },
  {
   "cell_type": "code",
   "execution_count": null,
   "metadata": {},
   "outputs": [],
   "source": [
    "def solution(numbers, hand):\n",
    "    answer = ''\n",
    "    \n",
    "    recent_left = 10\n",
    "    recent_right = 12\n",
    "    \n",
    "    for i in range(len(numbers)):\n",
    "        if numbers[i] in [1, 4, 7]:\n",
    "            recent_left = numbers[i]\n",
    "            answer += 'L'\n",
    "        elif numbers[i] in [3, 6, 9]:\n",
    "            recent_right = numbers[i]\n",
    "            answer += 'R'\n",
    "        elif numbers[i] in [2, 5, 8, 0]:\n",
    "            t = numbers[i] if numbers[i] != 0 else 11\n",
    "            \n",
    "            if sum(divmod(abs(t - recent_left), 3)) > sum(divmod(abs(t - recent_right), 3)):\n",
    "                recent_right = t\n",
    "                answer += 'R'\n",
    "            elif sum(divmod(abs(t - recent_left), 3)) < sum(divmod(abs(t - recent_right), 3)):\n",
    "                recent_left = t\n",
    "                answer += 'L'\n",
    "            else:\n",
    "                if hand == 'right':\n",
    "                    recent_right = t\n",
    "                    answer += 'R'\n",
    "                else:\n",
    "                    recent_left = t\n",
    "                    answer += 'L'\n",
    "    \n",
    "    return answer"
   ]
  },
  {
   "cell_type": "markdown",
   "metadata": {},
   "source": [
    "ans)"
   ]
  },
  {
   "cell_type": "code",
   "execution_count": null,
   "metadata": {},
   "outputs": [],
   "source": [
    "def solution(numbers, hand):\n",
    "    answer = ''\n",
    "    key_dict = {1:(0,0),2:(0,1),3:(0,2),\n",
    "                4:(1,0),5:(1,1),6:(1,2),\n",
    "                7:(2,0),8:(2,1),9:(2,2),\n",
    "                '*':(3,0),0:(3,1),'#':(3,2)}\n",
    "\n",
    "    left = [1,4,7]\n",
    "    right = [3,6,9]\n",
    "    \n",
    "    lhand = '*'\n",
    "    rhand = '#'\n",
    "    for i in numbers:\n",
    "        if i in left:\n",
    "            answer += 'L'\n",
    "            lhand = i\n",
    "        elif i in right:\n",
    "            answer += 'R'\n",
    "            rhand = i\n",
    "        else:\n",
    "            curPos = key_dict[i]\n",
    "            \n",
    "            lPos = key_dict[lhand]\n",
    "            rPos = key_dict[rhand]\n",
    "            \n",
    "            ldist = abs(curPos[0]-lPos[0]) + abs(curPos[1]-lPos[1])\n",
    "            rdist = abs(curPos[0]-rPos[0]) + abs(curPos[1]-rPos[1])\n",
    "\n",
    "            if ldist < rdist:\n",
    "                answer += 'L'\n",
    "                lhand = i\n",
    "            elif ldist > rdist:\n",
    "                answer += 'R'\n",
    "                rhand = i\n",
    "            else:\n",
    "                if hand == 'left':\n",
    "                    answer += 'L'\n",
    "                    lhand = i\n",
    "                else:\n",
    "                    answer += 'R'\n",
    "                    rhand = i\n",
    "\n",
    "    return answer"
   ]
  },
  {
   "cell_type": "code",
   "execution_count": null,
   "metadata": {},
   "outputs": [],
   "source": [
    "def solution(numbers, hand):\n",
    "    l = 10\n",
    "    r = 11\n",
    "    \n",
    "    answer = \"\"\n",
    "    \n",
    "    p = [[0, 4, 3, 4, 3, 2, 3, 2, 1, 2],\n",
    "         [4, 0, 1, 2, 0, 2, 3, 0, 3, 4],\n",
    "         [3, 1, 0, 1, 2, 1, 2, 3, 2, 3],\n",
    "         [4, 2, 1, 0, 3, 2, 1, 4, 3, 2],\n",
    "         [3, 0, 2, 3, 0, 1, 2, 0, 2, 3],\n",
    "         [2, 2, 1, 2, 1, 0, 1, 2, 1, 2],\n",
    "         [3, 3, 2, 1, 2, 1, 0, 3, 2, 1],\n",
    "         [2, 0, 3, 4, 0, 2, 3, 0, 1, 2],\n",
    "         [1, 3, 2, 3, 2, 1, 2, 1, 0, 1],\n",
    "         [2, 4, 3, 2, 3, 2, 1, 2, 1, 0],\n",
    "         [1, 0, 4, 5, 0, 3, 4, 0, 2, 3],\n",
    "         [1, 5, 4, 0, 4, 3, 0, 3, 2, 0]]\n",
    "    \n",
    "    for i in numbers:\n",
    "        if i in [1, 4, 7]:\n",
    "            l = i\n",
    "            answer += \"L\"\n",
    "        elif i in [3, 6, 9]:\n",
    "            r = i\n",
    "            answer += \"R\"\n",
    "        else:\n",
    "            if p[l][i] < p[r][i]:\n",
    "                l = i\n",
    "                answer += \"L\"\n",
    "            elif p[l][i] > p[r][i]:\n",
    "                r = i\n",
    "                answer += \"R\"\n",
    "            elif hand == \"left\":\n",
    "                l = i\n",
    "                answer += \"L\"\n",
    "            else:\n",
    "                r = i\n",
    "                answer += \"R\"\n",
    "                \n",
    "    return answer"
   ]
  }
 ],
 "metadata": {
  "kernelspec": {
   "display_name": "Python 3",
   "language": "python",
   "name": "python3"
  },
  "language_info": {
   "codemirror_mode": {
    "name": "ipython",
    "version": 3
   },
   "file_extension": ".py",
   "mimetype": "text/x-python",
   "name": "python",
   "nbconvert_exporter": "python",
   "pygments_lexer": "ipython3",
   "version": "3.7.6"
  },
  "toc": {
   "base_numbering": 1,
   "nav_menu": {},
   "number_sections": true,
   "sideBar": true,
   "skip_h1_title": false,
   "title_cell": "Table of Contents",
   "title_sidebar": "Contents",
   "toc_cell": false,
   "toc_position": {},
   "toc_section_display": true,
   "toc_window_display": false
  },
  "varInspector": {
   "cols": {
    "lenName": 16,
    "lenType": 16,
    "lenVar": 40
   },
   "kernels_config": {
    "python": {
     "delete_cmd_postfix": "",
     "delete_cmd_prefix": "del ",
     "library": "var_list.py",
     "varRefreshCmd": "print(var_dic_list())"
    },
    "r": {
     "delete_cmd_postfix": ") ",
     "delete_cmd_prefix": "rm(",
     "library": "var_list.r",
     "varRefreshCmd": "cat(var_dic_list()) "
    }
   },
   "types_to_exclude": [
    "module",
    "function",
    "builtin_function_or_method",
    "instance",
    "_Feature"
   ],
   "window_display": false
  }
 },
 "nbformat": 4,
 "nbformat_minor": 4
}

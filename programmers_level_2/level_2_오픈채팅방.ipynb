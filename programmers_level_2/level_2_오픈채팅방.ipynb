{
 "cells": [
  {
   "cell_type": "markdown",
   "metadata": {},
   "source": [
    "<b> Level_2_오픈채팅방"
   ]
  },
  {
   "cell_type": "markdown",
   "metadata": {},
   "source": [
    "try)"
   ]
  },
  {
   "cell_type": "code",
   "execution_count": null,
   "metadata": {},
   "outputs": [],
   "source": [
    "def solution(record):  \n",
    "    log = []\n",
    "    \n",
    "    d = {}\n",
    "    for i in range(len(record)):\n",
    "        temp = record[i].split(' ')\n",
    "        if temp[0] == 'Leave':\n",
    "            log.append([temp[1], \"님이 나갔습니다.\"])\n",
    "        elif temp[0] == 'Enter':\n",
    "            d[temp[1]] = temp[2]\n",
    "            log.append([temp[1], \"님이 들어왔습니다.\"])\n",
    "        elif temp[0] == 'Change':\n",
    "            d[temp[1]] = temp[2]\n",
    "    \n",
    "    answer = []\n",
    "    \n",
    "    for i in range(len(log)):\n",
    "        answer.append(d[log[i][0]] + log[i][1])\n",
    "    \n",
    "    return answer"
   ]
  },
  {
   "cell_type": "markdown",
   "metadata": {},
   "source": [
    "ans)"
   ]
  },
  {
   "cell_type": "code",
   "execution_count": null,
   "metadata": {},
   "outputs": [],
   "source": [
    "def solution(record):\n",
    "    answer = []\n",
    "    namespace = {}\n",
    "    printer = {'Enter':'님이 들어왔습니다.', 'Leave':'님이 나갔습니다.'}\n",
    "    \n",
    "    for r in record:\n",
    "        t = r.split(' ')\n",
    "        if t[0] in ['Enter', 'Change']:\n",
    "            namespace[t[1]] = t[2]\n",
    "\n",
    "    for r in record:\n",
    "        t = r.split(' ')\n",
    "        if t[0] != 'Change':\n",
    "            answer.append(namespace[t[1]] + printer[t[0]])\n",
    "\n",
    "    return answer"
   ]
  }
 ],
 "metadata": {
  "kernelspec": {
   "display_name": "Python 3",
   "language": "python",
   "name": "python3"
  },
  "language_info": {
   "codemirror_mode": {
    "name": "ipython",
    "version": 3
   },
   "file_extension": ".py",
   "mimetype": "text/x-python",
   "name": "python",
   "nbconvert_exporter": "python",
   "pygments_lexer": "ipython3",
   "version": "3.7.6"
  },
  "toc": {
   "base_numbering": 1,
   "nav_menu": {},
   "number_sections": true,
   "sideBar": true,
   "skip_h1_title": false,
   "title_cell": "Table of Contents",
   "title_sidebar": "Contents",
   "toc_cell": false,
   "toc_position": {},
   "toc_section_display": true,
   "toc_window_display": false
  },
  "varInspector": {
   "cols": {
    "lenName": 16,
    "lenType": 16,
    "lenVar": 40
   },
   "kernels_config": {
    "python": {
     "delete_cmd_postfix": "",
     "delete_cmd_prefix": "del ",
     "library": "var_list.py",
     "varRefreshCmd": "print(var_dic_list())"
    },
    "r": {
     "delete_cmd_postfix": ") ",
     "delete_cmd_prefix": "rm(",
     "library": "var_list.r",
     "varRefreshCmd": "cat(var_dic_list()) "
    }
   },
   "types_to_exclude": [
    "module",
    "function",
    "builtin_function_or_method",
    "instance",
    "_Feature"
   ],
   "window_display": false
  }
 },
 "nbformat": 4,
 "nbformat_minor": 4
}

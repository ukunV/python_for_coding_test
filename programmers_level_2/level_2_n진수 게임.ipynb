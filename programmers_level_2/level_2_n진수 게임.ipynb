{
 "cells": [
  {
   "cell_type": "markdown",
   "metadata": {},
   "source": [
    "<b> Level_2_n진수 게임"
   ]
  },
  {
   "cell_type": "markdown",
   "metadata": {},
   "source": [
    "try)"
   ]
  },
  {
   "cell_type": "code",
   "execution_count": null,
   "metadata": {},
   "outputs": [],
   "source": [
    "def ten_to_n(n, l):\n",
    "    result = '0'\n",
    "    \n",
    "    num_arr = ['A', 'B', 'C', 'D', 'E', 'F']\n",
    "    \n",
    "    b = 1\n",
    "    while len(result) < l:\n",
    "        ts = ''\n",
    "        tb = b\n",
    "        \n",
    "        while tb > 0:\n",
    "            tb, mod = divmod(tb, n)\n",
    "            \n",
    "            if mod >= 10:\n",
    "                ts += num_arr[mod - 10]\n",
    "            else:\n",
    "                ts += str(mod)\n",
    "        \n",
    "        result += ts[::-1]\n",
    "        b += 1\n",
    "\n",
    "    return result\n",
    "\n",
    "def solution(n, t, m, p):\n",
    "    answer = ''\n",
    "    \n",
    "    full = ten_to_n(n, t * m)\n",
    "    \n",
    "    for i in range(p - 1, len(full), m):\n",
    "        answer += full[i]\n",
    "        \n",
    "        if len(answer) == t:\n",
    "            return answer"
   ]
  }
 ],
 "metadata": {
  "kernelspec": {
   "display_name": "Python 3",
   "language": "python",
   "name": "python3"
  },
  "language_info": {
   "codemirror_mode": {
    "name": "ipython",
    "version": 3
   },
   "file_extension": ".py",
   "mimetype": "text/x-python",
   "name": "python",
   "nbconvert_exporter": "python",
   "pygments_lexer": "ipython3",
   "version": "3.7.6"
  },
  "toc": {
   "base_numbering": 1,
   "nav_menu": {},
   "number_sections": true,
   "sideBar": true,
   "skip_h1_title": false,
   "title_cell": "Table of Contents",
   "title_sidebar": "Contents",
   "toc_cell": false,
   "toc_position": {},
   "toc_section_display": true,
   "toc_window_display": false
  },
  "varInspector": {
   "cols": {
    "lenName": 16,
    "lenType": 16,
    "lenVar": 40
   },
   "kernels_config": {
    "python": {
     "delete_cmd_postfix": "",
     "delete_cmd_prefix": "del ",
     "library": "var_list.py",
     "varRefreshCmd": "print(var_dic_list())"
    },
    "r": {
     "delete_cmd_postfix": ") ",
     "delete_cmd_prefix": "rm(",
     "library": "var_list.r",
     "varRefreshCmd": "cat(var_dic_list()) "
    }
   },
   "types_to_exclude": [
    "module",
    "function",
    "builtin_function_or_method",
    "instance",
    "_Feature"
   ],
   "window_display": false
  }
 },
 "nbformat": 4,
 "nbformat_minor": 4
}

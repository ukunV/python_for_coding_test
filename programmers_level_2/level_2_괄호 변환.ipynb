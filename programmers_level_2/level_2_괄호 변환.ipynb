{
 "cells": [
  {
   "cell_type": "markdown",
   "metadata": {},
   "source": [
    "<b> Level_2_괄호 변환"
   ]
  },
  {
   "cell_type": "markdown",
   "metadata": {},
   "source": [
    "try)"
   ]
  },
  {
   "cell_type": "code",
   "execution_count": null,
   "metadata": {},
   "outputs": [],
   "source": [
    "def isBalance(s):\n",
    "    return s.count('(') == s.count(')')\n",
    "    \n",
    "def isCorrect(s):\n",
    "    if s[0] == ')':\n",
    "        return False\n",
    "    \n",
    "    count = 0\n",
    "    \n",
    "    for i in range(len(s)):\n",
    "        if s[i] == '(':\n",
    "            count += 1\n",
    "        else:\n",
    "            count -= 1\n",
    "            \n",
    "        if count < 0:\n",
    "            return False\n",
    "            \n",
    "    return count == 0\n",
    "\n",
    "\n",
    "def solution(p):\n",
    "    if len(p) == 0 or isCorrect(p):\n",
    "        return p\n",
    "    \n",
    "    answer = ''\n",
    "    \n",
    "    u = ''\n",
    "    v = ''\n",
    "    \n",
    "    for i in range(2, len(p) + 1, 2):\n",
    "        if isBalance(p[:i]):\n",
    "            u = p[:i]\n",
    "            v = p[i:]\n",
    "            break\n",
    "            \n",
    "    if isCorrect(u):\n",
    "        answer += u + solution(v)\n",
    "    else:\n",
    "        answer += '(' + solution(v) + ')'\n",
    "        for i in u[1:-1]:\n",
    "            if i == '(':\n",
    "                answer += ')'\n",
    "            else:\n",
    "                answer += '('\n",
    "    \n",
    "    return answer"
   ]
  },
  {
   "cell_type": "markdown",
   "metadata": {},
   "source": [
    "ans)"
   ]
  },
  {
   "cell_type": "code",
   "execution_count": null,
   "metadata": {},
   "outputs": [],
   "source": [
    "def solution(p):\n",
    "    if p == '':\n",
    "        return p\n",
    "    \n",
    "    chk = True\n",
    "    count = 0\n",
    "    for i in range(len(p)):\n",
    "        if p[i] == '(':\n",
    "            count += 1\n",
    "        else:\n",
    "            count -= 1\n",
    "            \n",
    "        if count < 0:\n",
    "            chk = False\n",
    "            \n",
    "        if count == 0:\n",
    "            if chk:\n",
    "                return p[:i+1] + solution(p[i + 1:])\n",
    "            else:\n",
    "                return '(' + solution(p[i + 1:]) + ')' + ''.join(list(map(lambda x: '(' if x == ')' else ')', p[1:i])))"
   ]
  }
 ],
 "metadata": {
  "kernelspec": {
   "display_name": "Python 3",
   "language": "python",
   "name": "python3"
  },
  "language_info": {
   "codemirror_mode": {
    "name": "ipython",
    "version": 3
   },
   "file_extension": ".py",
   "mimetype": "text/x-python",
   "name": "python",
   "nbconvert_exporter": "python",
   "pygments_lexer": "ipython3",
   "version": "3.7.6"
  },
  "toc": {
   "base_numbering": 1,
   "nav_menu": {},
   "number_sections": true,
   "sideBar": true,
   "skip_h1_title": false,
   "title_cell": "Table of Contents",
   "title_sidebar": "Contents",
   "toc_cell": false,
   "toc_position": {},
   "toc_section_display": true,
   "toc_window_display": false
  },
  "varInspector": {
   "cols": {
    "lenName": 16,
    "lenType": 16,
    "lenVar": 40
   },
   "kernels_config": {
    "python": {
     "delete_cmd_postfix": "",
     "delete_cmd_prefix": "del ",
     "library": "var_list.py",
     "varRefreshCmd": "print(var_dic_list())"
    },
    "r": {
     "delete_cmd_postfix": ") ",
     "delete_cmd_prefix": "rm(",
     "library": "var_list.r",
     "varRefreshCmd": "cat(var_dic_list()) "
    }
   },
   "types_to_exclude": [
    "module",
    "function",
    "builtin_function_or_method",
    "instance",
    "_Feature"
   ],
   "window_display": false
  }
 },
 "nbformat": 4,
 "nbformat_minor": 4
}

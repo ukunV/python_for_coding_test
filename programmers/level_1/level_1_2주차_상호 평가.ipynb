{
 "cells": [
  {
   "cell_type": "markdown",
   "metadata": {},
   "source": [
    "<b> Level_1_2주차_상호 평가"
   ]
  },
  {
   "cell_type": "markdown",
   "metadata": {},
   "source": [
    "try)"
   ]
  },
  {
   "cell_type": "code",
   "execution_count": null,
   "metadata": {},
   "outputs": [],
   "source": [
    "def solution(scores):\n",
    "    answer = []\n",
    "    \n",
    "    s = []\n",
    "    for i in range(len(scores)):\n",
    "        t = []\n",
    "        for j in range(len(scores)):\n",
    "            t.append(scores[j][i])\n",
    "        s.append(t)\n",
    "        \n",
    "    for i in range(len(s)):\n",
    "        if s[i][i] == max(s[i]) or s[i][i] == min(s[i]):\n",
    "            if s[i].count(s[i][i]) == 1:\n",
    "                s[i].remove(s[i][i])\n",
    "                \n",
    "                \n",
    "    for i in range(len(s)):\n",
    "        t = sum(s[i]) / len(s[i])\n",
    "        \n",
    "        if t >= 90:\n",
    "            t = 'A'\n",
    "        elif t >= 80:\n",
    "            t = 'B'\n",
    "        elif t >= 70:\n",
    "            t = 'C'\n",
    "        elif t >= 50:\n",
    "            t = 'D'\n",
    "        else:\n",
    "            t = 'F'\n",
    "            \n",
    "        answer.append(t)\n",
    "            \n",
    "    return ''.join(answer)"
   ]
  },
  {
   "cell_type": "markdown",
   "metadata": {},
   "source": [
    "ans)"
   ]
  },
  {
   "cell_type": "code",
   "execution_count": null,
   "metadata": {},
   "outputs": [],
   "source": [
    "from collections import Counter\n",
    "\n",
    "def solution(scores):   \n",
    "    answer = ''\n",
    "\n",
    "    for idx, score in enumerate(list(map(list, zip(*scores)))):\n",
    "        length = len(score)\n",
    "        if Counter(score)[score[idx]] == 1 and (max(score) == score[idx] or min(score) == score[idx]):\n",
    "            del score[idx]\n",
    "            length -= 1\n",
    "\n",
    "        grade = sum(score) / length\n",
    "\n",
    "        if grade >= 90:\n",
    "            answer += 'A'\n",
    "        elif grade >= 80:\n",
    "            answer += 'B'\n",
    "        elif grade >= 70:\n",
    "            answer += 'C'\n",
    "        elif grade >= 50:\n",
    "            answer += 'D'\n",
    "        else:\n",
    "            answer += 'F'\n",
    "\n",
    "    return answer"
   ]
  },
  {
   "cell_type": "code",
   "execution_count": null,
   "metadata": {},
   "outputs": [],
   "source": [
    "def solution(scores):\n",
    "    answer = ''\n",
    "\n",
    "    for i, score in enumerate(zip(*scores)):\n",
    "        avg = (sum(score) - score[i]) / (len(score) - 1) if score[i] in (min(score), max(score)) and score.count(score[i]) == 1 else sum(score) / len(score)\n",
    "        answer += \"%s\" % (\n",
    "            \"A\" if 90 <= avg else\n",
    "            \"B\" if 80 <= avg else\n",
    "            \"C\" if 70 <= avg else\n",
    "            \"D\" if 50 <= avg else\n",
    "            \"F\"\n",
    "        )\n",
    "\n",
    "    return answer"
   ]
  }
 ],
 "metadata": {
  "kernelspec": {
   "display_name": "Python 3",
   "language": "python",
   "name": "python3"
  },
  "language_info": {
   "codemirror_mode": {
    "name": "ipython",
    "version": 3
   },
   "file_extension": ".py",
   "mimetype": "text/x-python",
   "name": "python",
   "nbconvert_exporter": "python",
   "pygments_lexer": "ipython3",
   "version": "3.7.6"
  },
  "toc": {
   "base_numbering": 1,
   "nav_menu": {},
   "number_sections": true,
   "sideBar": true,
   "skip_h1_title": false,
   "title_cell": "Table of Contents",
   "title_sidebar": "Contents",
   "toc_cell": false,
   "toc_position": {},
   "toc_section_display": true,
   "toc_window_display": false
  },
  "varInspector": {
   "cols": {
    "lenName": 16,
    "lenType": 16,
    "lenVar": 40
   },
   "kernels_config": {
    "python": {
     "delete_cmd_postfix": "",
     "delete_cmd_prefix": "del ",
     "library": "var_list.py",
     "varRefreshCmd": "print(var_dic_list())"
    },
    "r": {
     "delete_cmd_postfix": ") ",
     "delete_cmd_prefix": "rm(",
     "library": "var_list.r",
     "varRefreshCmd": "cat(var_dic_list()) "
    }
   },
   "types_to_exclude": [
    "module",
    "function",
    "builtin_function_or_method",
    "instance",
    "_Feature"
   ],
   "window_display": false
  }
 },
 "nbformat": 4,
 "nbformat_minor": 4
}

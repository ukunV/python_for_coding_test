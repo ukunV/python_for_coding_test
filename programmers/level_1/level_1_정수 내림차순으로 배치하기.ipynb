{
 "cells": [
  {
   "cell_type": "markdown",
   "metadata": {},
   "source": [
    "<b>Level 1_정수 내림차순으로 배치하기"
   ]
  },
  {
   "cell_type": "markdown",
   "metadata": {
    "ExecuteTime": {
     "end_time": "2021-04-06T05:25:58.118865Z",
     "start_time": "2021-04-06T05:25:58.109888Z"
    }
   },
   "source": [
    "try)"
   ]
  },
  {
   "cell_type": "code",
   "execution_count": null,
   "metadata": {},
   "outputs": [],
   "source": [
    "def solution(n):\n",
    "    return int(''.join(sorted(list(str(n)), reverse=True)))"
   ]
  },
  {
   "cell_type": "code",
   "execution_count": null,
   "metadata": {},
   "outputs": [],
   "source": [
    "def solution(n):\n",
    "    count = [0] * 10\n",
    "    \n",
    "    for i in str(n):\n",
    "        count[int(i)] += 1\n",
    "        \n",
    "    answer = ''\n",
    "    \n",
    "    for i in range(len(count) - 1, -1, -1):\n",
    "        if count[i] != 0:\n",
    "            answer += (str(i) * count[i])\n",
    "            \n",
    "    return int(answer)"
   ]
  },
  {
   "cell_type": "markdown",
   "metadata": {},
   "source": [
    "ans)"
   ]
  },
  {
   "cell_type": "code",
   "execution_count": null,
   "metadata": {},
   "outputs": [],
   "source": [
    "def merge(left, right):\n",
    "    result = []\n",
    "    while len(left) > 0 or len(right) > 0:\n",
    "        if len(left) > 0 and len(right) > 0:\n",
    "            if left[0] >= right[0]:\n",
    "                result.append(left[0])\n",
    "                left = left[1:]\n",
    "            else:\n",
    "                result.append(right[0])\n",
    "                right = right[1:]\n",
    "        elif len(left) > 0:\n",
    "            result.append(left[0])\n",
    "            left = left[1:]\n",
    "        elif len(right) > 0:\n",
    "            result.append(right[0])\n",
    "            right = right[1:]\n",
    "    return result\n",
    "\n",
    "def mergeSort(arr):\n",
    "    if len(arr) <= 1:\n",
    "        return arr\n",
    "\n",
    "    mid = len(arr) // 2\n",
    "    left = arr[:mid]\n",
    "    right = arr[mid:]\n",
    "\n",
    "    left = mergeSort(left)\n",
    "    right = mergeSort(right)\n",
    "\n",
    "    return merge(left, right)\n",
    "\n",
    "def solution(n):\n",
    "    arr = list(str(n))\n",
    "    n = int(''.join(mergeSort(arr)))\n",
    "    return n"
   ]
  },
  {
   "cell_type": "code",
   "execution_count": null,
   "metadata": {},
   "outputs": [],
   "source": [
    "def quickSort(x):\n",
    "    if len(x) <= 1:\n",
    "        return x\n",
    "\n",
    "    pivot = x[len(x) // 2]\n",
    "    less = []\n",
    "    more = []\n",
    "    equal = []\n",
    "    \n",
    "    for a in x:\n",
    "        if a < pivot:\n",
    "            less.append(a)\n",
    "        elif a > pivot:\n",
    "            more.append(a)\n",
    "        else:\n",
    "            equal.append(a)\n",
    "\n",
    "    return quickSort(more) + equal + quicksort(less)\n",
    "\n",
    "def solution(n):\n",
    "    n = str(n)\n",
    "    new = []\n",
    "    \n",
    "    for i in n:\n",
    "        new.append(int(i))\n",
    "        \n",
    "    result = quickSort(new)\n",
    "\n",
    "    answer = ''\n",
    "    for i in result :\n",
    "        answer += str(i)\n",
    "        \n",
    "    return int(answer)"
   ]
  }
 ],
 "metadata": {
  "kernelspec": {
   "display_name": "Python 3",
   "language": "python",
   "name": "python3"
  },
  "language_info": {
   "codemirror_mode": {
    "name": "ipython",
    "version": 3
   },
   "file_extension": ".py",
   "mimetype": "text/x-python",
   "name": "python",
   "nbconvert_exporter": "python",
   "pygments_lexer": "ipython3",
   "version": "3.7.6"
  },
  "toc": {
   "base_numbering": 1,
   "nav_menu": {},
   "number_sections": true,
   "sideBar": true,
   "skip_h1_title": false,
   "title_cell": "Table of Contents",
   "title_sidebar": "Contents",
   "toc_cell": false,
   "toc_position": {},
   "toc_section_display": true,
   "toc_window_display": false
  },
  "varInspector": {
   "cols": {
    "lenName": 16,
    "lenType": 16,
    "lenVar": 40
   },
   "kernels_config": {
    "python": {
     "delete_cmd_postfix": "",
     "delete_cmd_prefix": "del ",
     "library": "var_list.py",
     "varRefreshCmd": "print(var_dic_list())"
    },
    "r": {
     "delete_cmd_postfix": ") ",
     "delete_cmd_prefix": "rm(",
     "library": "var_list.r",
     "varRefreshCmd": "cat(var_dic_list()) "
    }
   },
   "types_to_exclude": [
    "module",
    "function",
    "builtin_function_or_method",
    "instance",
    "_Feature"
   ],
   "window_display": false
  }
 },
 "nbformat": 4,
 "nbformat_minor": 4
}

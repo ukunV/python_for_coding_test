{
 "cells": [
  {
   "cell_type": "markdown",
   "metadata": {},
   "source": [
    "<b> Level_2_더 맵게"
   ]
  },
  {
   "cell_type": "markdown",
   "metadata": {},
   "source": [
    "try)"
   ]
  },
  {
   "cell_type": "code",
   "execution_count": null,
   "metadata": {},
   "outputs": [],
   "source": [
    "def solution(scoville, K):\n",
    "    answer = 0\n",
    "    \n",
    "    scoville.sort()\n",
    "    \n",
    "    while True:\n",
    "        if scoville[0] < K:\n",
    "            scoville[1] = scoville[0] + scoville[1] * 2\n",
    "            del scoville[0]\n",
    "            answer += 1\n",
    "        \n",
    "        scoville.sort()\n",
    "            \n",
    "        t = scoville[0] >= K\n",
    "        \n",
    "        if t == False and len(scoville) == 1:\n",
    "            return -1\n",
    "        elif t == True:\n",
    "            return answer"
   ]
  },
  {
   "cell_type": "markdown",
   "metadata": {
    "ExecuteTime": {
     "end_time": "2021-05-02T02:56:36.736629Z",
     "start_time": "2021-05-02T02:56:36.715653Z"
    }
   },
   "source": [
    "ans)"
   ]
  },
  {
   "cell_type": "code",
   "execution_count": null,
   "metadata": {},
   "outputs": [],
   "source": [
    "import heapq\n",
    "\n",
    "def solution(scoville, K):\n",
    "    answer = 0\n",
    "    \n",
    "    heapq.heapify(scoville)\n",
    "    \n",
    "    while True:\n",
    "        if scoville[0] < K:\n",
    "            t = heapq.heappop(scoville) + heapq.heappop(scoville) * 2\n",
    "            heapq.heappush(scoville, t)\n",
    "            answer += 1\n",
    "            \n",
    "        if len(scoville) == 1 and scoville[0] < K:\n",
    "            return -1\n",
    "        \n",
    "        if scoville[0] >= K:\n",
    "            return answer"
   ]
  }
 ],
 "metadata": {
  "kernelspec": {
   "display_name": "Python 3",
   "language": "python",
   "name": "python3"
  },
  "language_info": {
   "codemirror_mode": {
    "name": "ipython",
    "version": 3
   },
   "file_extension": ".py",
   "mimetype": "text/x-python",
   "name": "python",
   "nbconvert_exporter": "python",
   "pygments_lexer": "ipython3",
   "version": "3.7.6"
  },
  "toc": {
   "base_numbering": 1,
   "nav_menu": {},
   "number_sections": true,
   "sideBar": true,
   "skip_h1_title": false,
   "title_cell": "Table of Contents",
   "title_sidebar": "Contents",
   "toc_cell": false,
   "toc_position": {},
   "toc_section_display": true,
   "toc_window_display": false
  },
  "varInspector": {
   "cols": {
    "lenName": 16,
    "lenType": 16,
    "lenVar": 40
   },
   "kernels_config": {
    "python": {
     "delete_cmd_postfix": "",
     "delete_cmd_prefix": "del ",
     "library": "var_list.py",
     "varRefreshCmd": "print(var_dic_list())"
    },
    "r": {
     "delete_cmd_postfix": ") ",
     "delete_cmd_prefix": "rm(",
     "library": "var_list.r",
     "varRefreshCmd": "cat(var_dic_list()) "
    }
   },
   "types_to_exclude": [
    "module",
    "function",
    "builtin_function_or_method",
    "instance",
    "_Feature"
   ],
   "window_display": false
  }
 },
 "nbformat": 4,
 "nbformat_minor": 4
}

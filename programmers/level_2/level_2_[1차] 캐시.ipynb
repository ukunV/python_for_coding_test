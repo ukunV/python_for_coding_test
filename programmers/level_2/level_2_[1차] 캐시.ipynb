{
 "cells": [
  {
   "cell_type": "markdown",
   "metadata": {},
   "source": [
    "<b> Level_2_[1차] 캐시"
   ]
  },
  {
   "cell_type": "markdown",
   "metadata": {},
   "source": [
    "try)"
   ]
  },
  {
   "cell_type": "code",
   "execution_count": null,
   "metadata": {},
   "outputs": [],
   "source": [
    "from collections import deque\n",
    "\n",
    "def solution(cacheSize, cities):\n",
    "    if cacheSize == 0:\n",
    "        return len(cities) * 5\n",
    "    \n",
    "    answer = 0\n",
    "    \n",
    "    cache = deque()\n",
    "    \n",
    "    for i in range(len(cities)):\n",
    "        t = cities[i].lower()\n",
    "        \n",
    "        if t in cache:\n",
    "            answer += 1\n",
    "            cache.remove(t)\n",
    "        else:\n",
    "            answer += 5\n",
    "            if len(cache) == cacheSize:\n",
    "                cache.popleft()\n",
    "                \n",
    "        cache.append(t)\n",
    "    \n",
    "    return answer"
   ]
  },
  {
   "cell_type": "markdown",
   "metadata": {},
   "source": [
    "ans)"
   ]
  },
  {
   "cell_type": "code",
   "execution_count": null,
   "metadata": {},
   "outputs": [],
   "source": [
    "from collections import deque\n",
    "\n",
    "def solution(cacheSize, cities):\n",
    "    if cacheSize == 0:\n",
    "        return len(cities) * 5\n",
    "    \n",
    "    answer = 0\n",
    "    \n",
    "    cache = deque(maxlen=cacheSize)\n",
    "    \n",
    "    for i in cities:\n",
    "        s = i.lower()\n",
    "        \n",
    "        if s in cache:\n",
    "            cache.remove(s)\n",
    "            answer += 1\n",
    "        else:\n",
    "            answer += 5\n",
    "            \n",
    "        cache.append(s)\n",
    "            \n",
    "    return answer"
   ]
  }
 ],
 "metadata": {
  "kernelspec": {
   "display_name": "Python 3",
   "language": "python",
   "name": "python3"
  },
  "language_info": {
   "codemirror_mode": {
    "name": "ipython",
    "version": 3
   },
   "file_extension": ".py",
   "mimetype": "text/x-python",
   "name": "python",
   "nbconvert_exporter": "python",
   "pygments_lexer": "ipython3",
   "version": "3.7.6"
  },
  "toc": {
   "base_numbering": 1,
   "nav_menu": {},
   "number_sections": true,
   "sideBar": true,
   "skip_h1_title": false,
   "title_cell": "Table of Contents",
   "title_sidebar": "Contents",
   "toc_cell": false,
   "toc_position": {},
   "toc_section_display": true,
   "toc_window_display": false
  },
  "varInspector": {
   "cols": {
    "lenName": 16,
    "lenType": 16,
    "lenVar": 40
   },
   "kernels_config": {
    "python": {
     "delete_cmd_postfix": "",
     "delete_cmd_prefix": "del ",
     "library": "var_list.py",
     "varRefreshCmd": "print(var_dic_list())"
    },
    "r": {
     "delete_cmd_postfix": ") ",
     "delete_cmd_prefix": "rm(",
     "library": "var_list.r",
     "varRefreshCmd": "cat(var_dic_list()) "
    }
   },
   "types_to_exclude": [
    "module",
    "function",
    "builtin_function_or_method",
    "instance",
    "_Feature"
   ],
   "window_display": false
  }
 },
 "nbformat": 4,
 "nbformat_minor": 4
}

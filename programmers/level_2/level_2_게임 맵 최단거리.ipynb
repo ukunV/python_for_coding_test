{
 "cells": [
  {
   "cell_type": "markdown",
   "metadata": {},
   "source": [
    "<b> Level_2_게임 맵 최단거리"
   ]
  },
  {
   "cell_type": "markdown",
   "metadata": {},
   "source": [
    "try)"
   ]
  },
  {
   "cell_type": "code",
   "execution_count": null,
   "metadata": {},
   "outputs": [],
   "source": [
    "from collections import deque\n",
    "\n",
    "def solution(maps):\n",
    "    n = len(maps)\n",
    "    m = len(maps[0])\n",
    "    \n",
    "    if maps[n - 2][m - 1] == 0 and maps[n - 1][m - 2] == 0:\n",
    "        return -1\n",
    "    \n",
    "    directions = [[0, 1], [1, 0], [-1, 0], [0, -1]]\n",
    "\n",
    "    table = [[-1] * m for _ in range(n)]\n",
    "    table[0][0] = 1\n",
    "    \n",
    "    q = deque()\n",
    "    q.append([0, 0])\n",
    "    \n",
    "    while q:\n",
    "        y, x = q.popleft()\n",
    "        \n",
    "        for i in range(4):\n",
    "            ny = y + directions[i][0]\n",
    "            nx = x + directions[i][1]\n",
    "            \n",
    "            if nx >= 0 and nx <= (m - 1) and ny >= 0 and ny <= (n - 1):\n",
    "                if maps[ny][nx] == 1 and table[ny][nx] == -1:\n",
    "                    table[ny][nx] = table[y][x] + 1\n",
    "                    q.append([ny, nx])\n",
    "    \n",
    "    return table[n - 1][m - 1]"
   ]
  }
 ],
 "metadata": {
  "kernelspec": {
   "display_name": "Python 3",
   "language": "python",
   "name": "python3"
  },
  "language_info": {
   "codemirror_mode": {
    "name": "ipython",
    "version": 3
   },
   "file_extension": ".py",
   "mimetype": "text/x-python",
   "name": "python",
   "nbconvert_exporter": "python",
   "pygments_lexer": "ipython3",
   "version": "3.7.6"
  },
  "toc": {
   "base_numbering": 1,
   "nav_menu": {},
   "number_sections": true,
   "sideBar": true,
   "skip_h1_title": false,
   "title_cell": "Table of Contents",
   "title_sidebar": "Contents",
   "toc_cell": false,
   "toc_position": {},
   "toc_section_display": true,
   "toc_window_display": false
  },
  "varInspector": {
   "cols": {
    "lenName": 16,
    "lenType": 16,
    "lenVar": 40
   },
   "kernels_config": {
    "python": {
     "delete_cmd_postfix": "",
     "delete_cmd_prefix": "del ",
     "library": "var_list.py",
     "varRefreshCmd": "print(var_dic_list())"
    },
    "r": {
     "delete_cmd_postfix": ") ",
     "delete_cmd_prefix": "rm(",
     "library": "var_list.r",
     "varRefreshCmd": "cat(var_dic_list()) "
    }
   },
   "types_to_exclude": [
    "module",
    "function",
    "builtin_function_or_method",
    "instance",
    "_Feature"
   ],
   "window_display": false
  }
 },
 "nbformat": 4,
 "nbformat_minor": 4
}

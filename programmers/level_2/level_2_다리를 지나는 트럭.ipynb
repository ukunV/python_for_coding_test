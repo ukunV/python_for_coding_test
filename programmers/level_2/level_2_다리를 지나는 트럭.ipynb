{
 "cells": [
  {
   "cell_type": "markdown",
   "metadata": {},
   "source": [
    "<b> Level_2_다리를 지나는 트럭"
   ]
  },
  {
   "cell_type": "markdown",
   "metadata": {},
   "source": [
    "try)"
   ]
  },
  {
   "cell_type": "code",
   "execution_count": null,
   "metadata": {},
   "outputs": [],
   "source": [
    "def solution(bridge_length, weight, truck_weights):\n",
    "    answer = 0\n",
    "    \n",
    "    q = [0] * bridge_length\n",
    "    \n",
    "    while q:\n",
    "        answer += 1\n",
    "        q.pop(0)\n",
    "        \n",
    "        if truck_weights:\n",
    "            if sum(q) + truck_weights[0] <= weight:\n",
    "                q.append(truck_weights[0])\n",
    "                truck_weights.pop(0)\n",
    "            else:\n",
    "                q.append(0)\n",
    "\n",
    "    return answer"
   ]
  },
  {
   "cell_type": "markdown",
   "metadata": {},
   "source": [
    "ans)"
   ]
  },
  {
   "cell_type": "code",
   "execution_count": null,
   "metadata": {},
   "outputs": [],
   "source": [
    "from collections import deque\n",
    "\n",
    "def solution(bridge_length, weight, truck_weights):\n",
    "    answer = 0\n",
    "    \n",
    "    bridge = deque(0 for _ in range(bridge_length))\n",
    "    total_weight = 0\n",
    "    truck_weights.reverse()\n",
    "\n",
    "    while truck_weights:\n",
    "        total_weight -= bridge.popleft()\n",
    "        \n",
    "        if total_weight + truck_weights[-1] > weight:\n",
    "            bridge.append(0)\n",
    "        else:\n",
    "            truck = truck_weights.pop()\n",
    "            bridge.append(truck)\n",
    "            total_weight += truck\n",
    "            \n",
    "        answer += 1\n",
    "\n",
    "    answer += bridge_length\n",
    "\n",
    "    return step"
   ]
  }
 ],
 "metadata": {
  "kernelspec": {
   "display_name": "Python 3",
   "language": "python",
   "name": "python3"
  },
  "language_info": {
   "codemirror_mode": {
    "name": "ipython",
    "version": 3
   },
   "file_extension": ".py",
   "mimetype": "text/x-python",
   "name": "python",
   "nbconvert_exporter": "python",
   "pygments_lexer": "ipython3",
   "version": "3.7.6"
  },
  "toc": {
   "base_numbering": 1,
   "nav_menu": {},
   "number_sections": true,
   "sideBar": true,
   "skip_h1_title": false,
   "title_cell": "Table of Contents",
   "title_sidebar": "Contents",
   "toc_cell": false,
   "toc_position": {},
   "toc_section_display": true,
   "toc_window_display": false
  },
  "varInspector": {
   "cols": {
    "lenName": 16,
    "lenType": 16,
    "lenVar": 40
   },
   "kernels_config": {
    "python": {
     "delete_cmd_postfix": "",
     "delete_cmd_prefix": "del ",
     "library": "var_list.py",
     "varRefreshCmd": "print(var_dic_list())"
    },
    "r": {
     "delete_cmd_postfix": ") ",
     "delete_cmd_prefix": "rm(",
     "library": "var_list.r",
     "varRefreshCmd": "cat(var_dic_list()) "
    }
   },
   "types_to_exclude": [
    "module",
    "function",
    "builtin_function_or_method",
    "instance",
    "_Feature"
   ],
   "window_display": false
  }
 },
 "nbformat": 4,
 "nbformat_minor": 4
}

{
 "cells": [
  {
   "cell_type": "markdown",
   "metadata": {},
   "source": [
    "<b> Level_2_수식 최대화"
   ]
  },
  {
   "cell_type": "markdown",
   "metadata": {},
   "source": [
    "try)"
   ]
  },
  {
   "cell_type": "code",
   "execution_count": null,
   "metadata": {},
   "outputs": [],
   "source": [
    "from itertools import permutations\n",
    "\n",
    "def calc(oper, n, expression):\n",
    "    if expression.isdigit():\n",
    "        return str(expression)\n",
    "    else:\n",
    "        if oper[n] == '*':\n",
    "            split_expression = expression.split('*')\n",
    "            temp = []\n",
    "            \n",
    "            for i in range(len(split_expression)):\n",
    "                temp.append(calc(oper, n + 1, split_expression[i]))\n",
    "                \n",
    "            return str(eval('*'.join(temp)))\n",
    "        \n",
    "        elif oper[n] == '+':\n",
    "            split_expression = expression.split('+')\n",
    "            temp = []\n",
    "            \n",
    "            for i in range(len(split_expression)):\n",
    "                temp.append(calc(oper, n + 1, split_expression[i]))\n",
    "                \n",
    "            return str(eval('+'.join(temp)))\n",
    "        \n",
    "        elif oper[n] == '-':\n",
    "            split_expression = expression.split('-')\n",
    "            temp = []\n",
    "            \n",
    "            for i in range(len(split_expression)):\n",
    "                temp.append(calc(oper, n + 1, split_expression[i]))\n",
    "                \n",
    "            return str(eval('-'.join(temp)))\n",
    "\n",
    "\n",
    "def solution(expression):\n",
    "    answer = 0\n",
    "    \n",
    "    oper = ['*', '+', '-']\n",
    "    oper = list(permutations(oper, 3))\n",
    "    \n",
    "    for i in range(len(oper)):\n",
    "        result = abs(int(calc(oper[i], 0, expression)))\n",
    "        \n",
    "        answer = max(answer, result)\n",
    "    \n",
    "    return answer"
   ]
  },
  {
   "cell_type": "markdown",
   "metadata": {},
   "source": [
    "ans)"
   ]
  },
  {
   "cell_type": "code",
   "execution_count": null,
   "metadata": {},
   "outputs": [],
   "source": [
    "from itertools import permutations\n",
    "\n",
    "def solution(expression):\n",
    "    oper = ['+', '-', '*']\n",
    "    oper = list(permutations(oper, 3))\n",
    "    answer = []\n",
    "    \n",
    "    for op in oper:\n",
    "        a = op[0]\n",
    "        b = op[1]\n",
    "        temp_list = []\n",
    "        \n",
    "        for e in expression.split(a):\n",
    "            temp = [f'({i})' for i in e.split(b)]\n",
    "            temp_list.append(f'({b.join(temp)})')\n",
    "        \n",
    "        answer.append(abs(eval(a.join(temp_list))))\n",
    "        \n",
    "    return max(answer)"
   ]
  }
 ],
 "metadata": {
  "kernelspec": {
   "display_name": "Python 3",
   "language": "python",
   "name": "python3"
  },
  "language_info": {
   "codemirror_mode": {
    "name": "ipython",
    "version": 3
   },
   "file_extension": ".py",
   "mimetype": "text/x-python",
   "name": "python",
   "nbconvert_exporter": "python",
   "pygments_lexer": "ipython3",
   "version": "3.7.6"
  },
  "toc": {
   "base_numbering": 1,
   "nav_menu": {},
   "number_sections": true,
   "sideBar": true,
   "skip_h1_title": false,
   "title_cell": "Table of Contents",
   "title_sidebar": "Contents",
   "toc_cell": false,
   "toc_position": {},
   "toc_section_display": true,
   "toc_window_display": false
  },
  "varInspector": {
   "cols": {
    "lenName": 16,
    "lenType": 16,
    "lenVar": 40
   },
   "kernels_config": {
    "python": {
     "delete_cmd_postfix": "",
     "delete_cmd_prefix": "del ",
     "library": "var_list.py",
     "varRefreshCmd": "print(var_dic_list())"
    },
    "r": {
     "delete_cmd_postfix": ") ",
     "delete_cmd_prefix": "rm(",
     "library": "var_list.r",
     "varRefreshCmd": "cat(var_dic_list()) "
    }
   },
   "types_to_exclude": [
    "module",
    "function",
    "builtin_function_or_method",
    "instance",
    "_Feature"
   ],
   "window_display": false
  }
 },
 "nbformat": 4,
 "nbformat_minor": 4
}

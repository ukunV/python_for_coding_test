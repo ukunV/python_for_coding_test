{
 "cells": [
  {
   "cell_type": "markdown",
   "metadata": {},
   "source": [
    "<b> Level_2_타겟 넘버"
   ]
  },
  {
   "cell_type": "markdown",
   "metadata": {},
   "source": [
    "try)"
   ]
  },
  {
   "cell_type": "code",
   "execution_count": null,
   "metadata": {},
   "outputs": [],
   "source": [
    "def solution(numbers, target):\n",
    "    if len(numbers) == 0 and target == 0:\n",
    "        return 1\n",
    "    elif len(numbers) == 0 and target != 0:\n",
    "        return 0\n",
    "    else:\n",
    "        return solution(numbers[1:], target - numbers[0]) + solution(numbers[1:], target + numbers[0])"
   ]
  },
  {
   "cell_type": "markdown",
   "metadata": {},
   "source": [
    "ans)"
   ]
  },
  {
   "cell_type": "code",
   "execution_count": null,
   "metadata": {},
   "outputs": [],
   "source": [
    "from itertools import product\n",
    "\n",
    "def solution(numbers, target):\n",
    "    numbers = [(x, -x) for x in numbers]\n",
    "    \n",
    "    sums = list(map(sum, product(*numbers)))\n",
    "    \n",
    "    return sums.count(target)"
   ]
  },
  {
   "cell_type": "markdown",
   "metadata": {},
   "source": [
    "* product()"
   ]
  },
  {
   "cell_type": "code",
   "execution_count": 13,
   "metadata": {
    "ExecuteTime": {
     "end_time": "2021-09-23T04:19:36.608631Z",
     "start_time": "2021-09-23T04:19:36.592500Z"
    }
   },
   "outputs": [
    {
     "name": "stdout",
     "output_type": "stream",
     "text": [
      "[(1, 2, 3, 4, 5), (1, 2, 3, 4, -5), (1, 2, 3, -4, 5), (1, 2, 3, -4, -5), (1, 2, -3, 4, 5), (1, 2, -3, 4, -5), (1, 2, -3, -4, 5), (1, 2, -3, -4, -5), (1, -2, 3, 4, 5), (1, -2, 3, 4, -5), (1, -2, 3, -4, 5), (1, -2, 3, -4, -5), (1, -2, -3, 4, 5), (1, -2, -3, 4, -5), (1, -2, -3, -4, 5), (1, -2, -3, -4, -5), (-1, 2, 3, 4, 5), (-1, 2, 3, 4, -5), (-1, 2, 3, -4, 5), (-1, 2, 3, -4, -5), (-1, 2, -3, 4, 5), (-1, 2, -3, 4, -5), (-1, 2, -3, -4, 5), (-1, 2, -3, -4, -5), (-1, -2, 3, 4, 5), (-1, -2, 3, 4, -5), (-1, -2, 3, -4, 5), (-1, -2, 3, -4, -5), (-1, -2, -3, 4, 5), (-1, -2, -3, 4, -5), (-1, -2, -3, -4, 5), (-1, -2, -3, -4, -5)]\n"
     ]
    }
   ],
   "source": [
    "from itertools import product\n",
    "\n",
    "a = [1, 2, 3, 4, 5]\n",
    "\n",
    "a = [(x, -x) for x in a]\n",
    "\n",
    "a = list(product(*a))\n",
    "\n",
    "print(a)"
   ]
  },
  {
   "cell_type": "code",
   "execution_count": 16,
   "metadata": {
    "ExecuteTime": {
     "end_time": "2021-09-23T04:20:32.119832Z",
     "start_time": "2021-09-23T04:20:32.100884Z"
    }
   },
   "outputs": [
    {
     "name": "stdout",
     "output_type": "stream",
     "text": [
      "[(1, 4), (1, 5), (1, 6), (2, 4), (2, 5), (2, 6), (3, 4), (3, 5), (3, 6)]\n"
     ]
    }
   ],
   "source": [
    "from itertools import product\n",
    "\n",
    "a = [1, 2, 3]\n",
    "\n",
    "b = [4, 5, 6]\n",
    "\n",
    "c = list(product(a, b))\n",
    "\n",
    "print(c)"
   ]
  }
 ],
 "metadata": {
  "kernelspec": {
   "display_name": "Python 3",
   "language": "python",
   "name": "python3"
  },
  "language_info": {
   "codemirror_mode": {
    "name": "ipython",
    "version": 3
   },
   "file_extension": ".py",
   "mimetype": "text/x-python",
   "name": "python",
   "nbconvert_exporter": "python",
   "pygments_lexer": "ipython3",
   "version": "3.7.6"
  },
  "toc": {
   "base_numbering": 1,
   "nav_menu": {},
   "number_sections": true,
   "sideBar": true,
   "skip_h1_title": false,
   "title_cell": "Table of Contents",
   "title_sidebar": "Contents",
   "toc_cell": false,
   "toc_position": {},
   "toc_section_display": true,
   "toc_window_display": false
  },
  "varInspector": {
   "cols": {
    "lenName": 16,
    "lenType": 16,
    "lenVar": 40
   },
   "kernels_config": {
    "python": {
     "delete_cmd_postfix": "",
     "delete_cmd_prefix": "del ",
     "library": "var_list.py",
     "varRefreshCmd": "print(var_dic_list())"
    },
    "r": {
     "delete_cmd_postfix": ") ",
     "delete_cmd_prefix": "rm(",
     "library": "var_list.r",
     "varRefreshCmd": "cat(var_dic_list()) "
    }
   },
   "types_to_exclude": [
    "module",
    "function",
    "builtin_function_or_method",
    "instance",
    "_Feature"
   ],
   "window_display": false
  }
 },
 "nbformat": 4,
 "nbformat_minor": 4
}

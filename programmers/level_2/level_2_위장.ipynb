{
 "cells": [
  {
   "cell_type": "markdown",
   "metadata": {
    "ExecuteTime": {
     "end_time": "2021-04-23T02:27:46.616527Z",
     "start_time": "2021-04-23T02:27:46.599462Z"
    }
   },
   "source": [
    "<b> Level_2_위장"
   ]
  },
  {
   "cell_type": "markdown",
   "metadata": {},
   "source": [
    "try)"
   ]
  },
  {
   "cell_type": "code",
   "execution_count": null,
   "metadata": {},
   "outputs": [],
   "source": [
    "def solution(clothes):\n",
    "    answer = 1\n",
    "    \n",
    "    d = {}\n",
    "    for i in range(len(clothes)):\n",
    "        if clothes[i][1] in list(d.keys()):\n",
    "            continue\n",
    "            \n",
    "        d[clothes[i][1]] = 1\n",
    "        for j in range(i + 1, len(clothes)):\n",
    "            if clothes[i][1] == clothes[j][1]:\n",
    "                d[clothes[i][1]] += 1\n",
    "                \n",
    "    v = list(d.values())\n",
    "    \n",
    "    for i in range(len(v)):\n",
    "        answer *= (v[i] + 1)\n",
    "            \n",
    "    return answer - 1"
   ]
  },
  {
   "cell_type": "markdown",
   "metadata": {},
   "source": [
    "ans)"
   ]
  },
  {
   "cell_type": "code",
   "execution_count": null,
   "metadata": {},
   "outputs": [],
   "source": [
    "from collections import Counter\n",
    "from functools import reduce\n",
    "\n",
    "def solution(clothes):    \n",
    "    cnt = Counter([kind for name, kind in clothes])\n",
    "    answer = reduce(lambda x, y: x * (y + 1), cnt.values(), 1) - 1\n",
    "    return answer"
   ]
  }
 ],
 "metadata": {
  "kernelspec": {
   "display_name": "Python 3",
   "language": "python",
   "name": "python3"
  },
  "language_info": {
   "codemirror_mode": {
    "name": "ipython",
    "version": 3
   },
   "file_extension": ".py",
   "mimetype": "text/x-python",
   "name": "python",
   "nbconvert_exporter": "python",
   "pygments_lexer": "ipython3",
   "version": "3.7.6"
  },
  "toc": {
   "base_numbering": 1,
   "nav_menu": {},
   "number_sections": true,
   "sideBar": true,
   "skip_h1_title": false,
   "title_cell": "Table of Contents",
   "title_sidebar": "Contents",
   "toc_cell": false,
   "toc_position": {},
   "toc_section_display": true,
   "toc_window_display": false
  },
  "varInspector": {
   "cols": {
    "lenName": 16,
    "lenType": 16,
    "lenVar": 40
   },
   "kernels_config": {
    "python": {
     "delete_cmd_postfix": "",
     "delete_cmd_prefix": "del ",
     "library": "var_list.py",
     "varRefreshCmd": "print(var_dic_list())"
    },
    "r": {
     "delete_cmd_postfix": ") ",
     "delete_cmd_prefix": "rm(",
     "library": "var_list.r",
     "varRefreshCmd": "cat(var_dic_list()) "
    }
   },
   "types_to_exclude": [
    "module",
    "function",
    "builtin_function_or_method",
    "instance",
    "_Feature"
   ],
   "window_display": false
  }
 },
 "nbformat": 4,
 "nbformat_minor": 4
}

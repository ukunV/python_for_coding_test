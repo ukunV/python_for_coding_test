{
 "cells": [
  {
   "cell_type": "markdown",
   "metadata": {},
   "source": [
    "<b> Level_2_튜플"
   ]
  },
  {
   "cell_type": "markdown",
   "metadata": {},
   "source": [
    "try)"
   ]
  },
  {
   "cell_type": "code",
   "execution_count": null,
   "metadata": {},
   "outputs": [],
   "source": [
    "def solution(s):\n",
    "    answer = []\n",
    "    \n",
    "    s = s.lstrip('{').rstrip('}').split('},{')\n",
    "    \n",
    "    t = []\n",
    "    for i in range(len(s)):\n",
    "        t.append(s[i].split(','))\n",
    "        \n",
    "    d = {}\n",
    "    for i in range(len(t)):\n",
    "        for j in range(len(t[i])):\n",
    "            if t[i][j] in list(d.keys()):\n",
    "                d[t[i][j]] += 1\n",
    "            else:\n",
    "                d[t[i][j]] = 1\n",
    "                \n",
    "    d = sorted(d.items(), key=lambda x: x[1], reverse=True)\n",
    "    \n",
    "    for i in range(len(d)):\n",
    "        answer.append(int(d[i][0]))\n",
    "    \n",
    "    return answer"
   ]
  },
  {
   "cell_type": "markdown",
   "metadata": {},
   "source": [
    "ans)"
   ]
  },
  {
   "cell_type": "code",
   "execution_count": null,
   "metadata": {},
   "outputs": [],
   "source": [
    "def solution(s):\n",
    "    answer = []\n",
    "\n",
    "    s = s.lstrip('{').rstrip('}').split('},{')\n",
    "\n",
    "    t = []\n",
    "    for i in s:\n",
    "        t.append(i.split(','))\n",
    "\n",
    "\n",
    "    t.sort(key=len)\n",
    "\n",
    "    for i in t:\n",
    "        for j in range(len(i)):\n",
    "            if int(i[j]) not in answer:\n",
    "                answer.append(int(i[j]))\n",
    "\n",
    "    return answer"
   ]
  },
  {
   "cell_type": "code",
   "execution_count": null,
   "metadata": {},
   "outputs": [],
   "source": [
    "from collections import Counter\n",
    "\n",
    "def solution(s):\n",
    "    answer = []\n",
    "    \n",
    "    s = Counter(s)\n",
    "    s = sorted(s.items(), key=lambda x: x[1], reverse=True)\n",
    "    \n",
    "    for i in s:\n",
    "        if i[0].isdigit() == True:\n",
    "            answer.append(int(i[0]))\n",
    "\n",
    "    return answer"
   ]
  }
 ],
 "metadata": {
  "kernelspec": {
   "display_name": "Python 3",
   "language": "python",
   "name": "python3"
  },
  "language_info": {
   "codemirror_mode": {
    "name": "ipython",
    "version": 3
   },
   "file_extension": ".py",
   "mimetype": "text/x-python",
   "name": "python",
   "nbconvert_exporter": "python",
   "pygments_lexer": "ipython3",
   "version": "3.7.6"
  },
  "toc": {
   "base_numbering": 1,
   "nav_menu": {},
   "number_sections": true,
   "sideBar": true,
   "skip_h1_title": false,
   "title_cell": "Table of Contents",
   "title_sidebar": "Contents",
   "toc_cell": false,
   "toc_position": {},
   "toc_section_display": true,
   "toc_window_display": false
  },
  "varInspector": {
   "cols": {
    "lenName": 16,
    "lenType": 16,
    "lenVar": 40
   },
   "kernels_config": {
    "python": {
     "delete_cmd_postfix": "",
     "delete_cmd_prefix": "del ",
     "library": "var_list.py",
     "varRefreshCmd": "print(var_dic_list())"
    },
    "r": {
     "delete_cmd_postfix": ") ",
     "delete_cmd_prefix": "rm(",
     "library": "var_list.r",
     "varRefreshCmd": "cat(var_dic_list()) "
    }
   },
   "types_to_exclude": [
    "module",
    "function",
    "builtin_function_or_method",
    "instance",
    "_Feature"
   ],
   "window_display": false
  }
 },
 "nbformat": 4,
 "nbformat_minor": 4
}

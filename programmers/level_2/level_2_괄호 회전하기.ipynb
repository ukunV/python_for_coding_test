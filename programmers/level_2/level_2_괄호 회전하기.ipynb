{
 "cells": [
  {
   "cell_type": "markdown",
   "metadata": {},
   "source": [
    "<b> Level_2_괄호 회전하기"
   ]
  },
  {
   "cell_type": "markdown",
   "metadata": {},
   "source": [
    "try)"
   ]
  },
  {
   "cell_type": "code",
   "execution_count": null,
   "metadata": {},
   "outputs": [],
   "source": [
    "def isCorrect(s):\n",
    "    if s[0] == ']' or s[0] == '}' or s[0] == ')':\n",
    "        return False\n",
    "    \n",
    "    cnt = [0, 0, 0]\n",
    "    \n",
    "    for i in range(len(s)):\n",
    "        if s[i] == '[':\n",
    "            cnt[0] += 1\n",
    "        elif s[i] == ']':\n",
    "            cnt[0] -= 1\n",
    "        elif s[i] == '{':\n",
    "            cnt[1] += 1\n",
    "        elif s[i] == '}':\n",
    "            cnt[1] -= 1\n",
    "        elif s[i] == '(':\n",
    "            cnt[2] += 1\n",
    "        elif s[i] == ')':\n",
    "            cnt[2] -= 1\n",
    "            \n",
    "        if min(cnt) < 0:\n",
    "            return False\n",
    "        \n",
    "    return cnt == [0, 0, 0]\n",
    "\n",
    "def solution(s):\n",
    "    if len(s) % 2 == 1:\n",
    "        return 0\n",
    "    \n",
    "    answer = 0\n",
    "    \n",
    "    for i in range(len(s)):\n",
    "        answer += isCorrect(s[i:] + s[:i])\n",
    "    \n",
    "    return answer"
   ]
  },
  {
   "cell_type": "markdown",
   "metadata": {},
   "source": [
    "ans)"
   ]
  },
  {
   "cell_type": "code",
   "execution_count": null,
   "metadata": {},
   "outputs": [],
   "source": [
    "from collections import deque\n",
    "\n",
    "def check(string):\n",
    "    stack = []\n",
    "    \n",
    "    for s in string:\n",
    "        if len(stack) == 0:\n",
    "            if s == ')' or s == '}' or s == ']':\n",
    "                return False\n",
    "        if s == '(' or s == '{' or s == '[':\n",
    "            stack.append(s)\n",
    "        else:\n",
    "            if s == ')' and stack[-1] == '(':\n",
    "                stack.pop()\n",
    "            elif s == '}' and stack[-1] == '{':\n",
    "                stack.pop()\n",
    "            elif s == ']' and stack[-1] == '[':\n",
    "                stack.pop()\n",
    "                \n",
    "                \n",
    "    if stack:\n",
    "        return False\n",
    "    else:\n",
    "        return True\n",
    "\n",
    "def solution(s):\n",
    "    answer = 0\n",
    "    \n",
    "    queue = deque(list(s))\n",
    "    \n",
    "    i = 0\n",
    "    while i != len(queue):\n",
    "        if check(queue):\n",
    "            answer += 1\n",
    "            \n",
    "        queue.rotate(-1)\n",
    "        i += 1\n",
    "\n",
    "    return answer"
   ]
  }
 ],
 "metadata": {
  "kernelspec": {
   "display_name": "Python 3",
   "language": "python",
   "name": "python3"
  },
  "language_info": {
   "codemirror_mode": {
    "name": "ipython",
    "version": 3
   },
   "file_extension": ".py",
   "mimetype": "text/x-python",
   "name": "python",
   "nbconvert_exporter": "python",
   "pygments_lexer": "ipython3",
   "version": "3.7.6"
  },
  "toc": {
   "base_numbering": 1,
   "nav_menu": {},
   "number_sections": true,
   "sideBar": true,
   "skip_h1_title": false,
   "title_cell": "Table of Contents",
   "title_sidebar": "Contents",
   "toc_cell": false,
   "toc_position": {},
   "toc_section_display": true,
   "toc_window_display": false
  },
  "varInspector": {
   "cols": {
    "lenName": 16,
    "lenType": 16,
    "lenVar": 40
   },
   "kernels_config": {
    "python": {
     "delete_cmd_postfix": "",
     "delete_cmd_prefix": "del ",
     "library": "var_list.py",
     "varRefreshCmd": "print(var_dic_list())"
    },
    "r": {
     "delete_cmd_postfix": ") ",
     "delete_cmd_prefix": "rm(",
     "library": "var_list.r",
     "varRefreshCmd": "cat(var_dic_list()) "
    }
   },
   "types_to_exclude": [
    "module",
    "function",
    "builtin_function_or_method",
    "instance",
    "_Feature"
   ],
   "window_display": false
  }
 },
 "nbformat": 4,
 "nbformat_minor": 4
}

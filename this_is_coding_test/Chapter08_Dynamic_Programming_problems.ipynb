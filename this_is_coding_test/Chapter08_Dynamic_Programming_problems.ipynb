{
 "cells": [
  {
   "cell_type": "markdown",
   "metadata": {},
   "source": [
    "<b> 1. 1로 만들기"
   ]
  },
  {
   "cell_type": "markdown",
   "metadata": {},
   "source": [
    "try)"
   ]
  },
  {
   "cell_type": "code",
   "execution_count": 36,
   "metadata": {
    "ExecuteTime": {
     "end_time": "2021-09-10T15:16:49.675068Z",
     "start_time": "2021-09-10T15:16:48.972953Z"
    }
   },
   "outputs": [
    {
     "name": "stdout",
     "output_type": "stream",
     "text": [
      "26\n",
      "3\n",
      "0.0\n"
     ]
    }
   ],
   "source": [
    "import time\n",
    "\n",
    "x = int(input())\n",
    "\n",
    "start = time.time()\n",
    "\n",
    "d = [0] * (30000 + 1)\n",
    "\n",
    "for i in range(2, x + 1):\n",
    "    d[i] = d[i - 1] + 1\n",
    "    \n",
    "    if i % 2 == 0:\n",
    "        d[i] = min(d[i], d[i // 2] + 1)\n",
    "    if i % 3 == 0:\n",
    "        d[i] = min(d[i], d[i // 3] + 1)\n",
    "    if i % 5 == 0:\n",
    "        d[i] = min(d[i], d[i // 5] + 1)\n",
    "        \n",
    "end = time.time()\n",
    "\n",
    "print(d[x])\n",
    "\n",
    "print(end - start)"
   ]
  },
  {
   "cell_type": "code",
   "execution_count": 37,
   "metadata": {
    "ExecuteTime": {
     "end_time": "2021-09-10T15:17:23.968241Z",
     "start_time": "2021-09-10T15:17:21.454257Z"
    }
   },
   "outputs": [
    {
     "name": "stdout",
     "output_type": "stream",
     "text": [
      "26\n",
      "26\n",
      "13\n",
      "12\n",
      "4\n",
      "2\n",
      "1\n",
      "5\n",
      "0.0009958744049072266\n"
     ]
    }
   ],
   "source": [
    "x = int(input())\n",
    "\n",
    "start = time.time()\n",
    "\n",
    "count = 0\n",
    "while True:\n",
    "    print(x)\n",
    "    if x == 1:\n",
    "        break\n",
    "\n",
    "    if x % 5 == 0:\n",
    "        x //= 5\n",
    "        count += 1\n",
    "    elif x % 3 == 0:\n",
    "        x //= 3\n",
    "        count += 1\n",
    "    elif x % 2 == 0:\n",
    "        x //= 2\n",
    "        count += 1\n",
    "    else:\n",
    "        x -= 1\n",
    "        count += 1\n",
    "        \n",
    "end = time.time()\n",
    "\n",
    "print(count)\n",
    "\n",
    "print(end - start)"
   ]
  },
  {
   "cell_type": "markdown",
   "metadata": {},
   "source": [
    "ans) a_i = min(a_i - 1, a_i / 2, a_i / 3, a_i / 5) + 1"
   ]
  },
  {
   "cell_type": "code",
   "execution_count": 2,
   "metadata": {
    "ExecuteTime": {
     "end_time": "2021-07-09T03:32:37.562298Z",
     "start_time": "2021-07-09T03:32:36.526421Z"
    }
   },
   "outputs": [
    {
     "name": "stdout",
     "output_type": "stream",
     "text": [
      "25\n",
      "2\n",
      "1 1 2 1 2 3 3 2 2 3 3 4 4 2 3 4 3 4 3 4 4 5 4 2 "
     ]
    }
   ],
   "source": [
    "# 정수 X를 입력받기\n",
    "x = int(input())\n",
    "\n",
    "# 앞서 계산된 결과를 저장하기 위한 DP 테이블 초기화\n",
    "d = [0] * 30001\n",
    "\n",
    "# 다이나믹 프로그래밍(Dynamic Programming) 진행(보텀업)\n",
    "for i in range(2, x + 1):\n",
    "    # 현재의 수에서 1을 빼는 경우\n",
    "    d[i] = d[i - 1] + 1\n",
    "    # 현재의 수가 2로 나누어 떨어지는 경우\n",
    "    if i % 2 == 0:\n",
    "        d[i] = min(d[i], d[i // 2] + 1)\n",
    "    # 현재의 수가 3으로 나누어 떨어지는 경우\n",
    "    if i % 3 == 0:\n",
    "        d[i] = min(d[i], d[i // 3] + 1)\n",
    "    # 현재의 수가 5로 나누어 떨어지는 경우\n",
    "    if i % 5 == 0:\n",
    "        d[i] = min(d[i], d[i // 5] + 1)\n",
    "        \n",
    "print(d[x])\n",
    "\n",
    "for i in range(2, x + 1):\n",
    "    print(d[i], end=' ')"
   ]
  },
  {
   "cell_type": "markdown",
   "metadata": {},
   "source": [
    "<b> 2. 개미 전사"
   ]
  },
  {
   "cell_type": "markdown",
   "metadata": {},
   "source": [
    "try)"
   ]
  },
  {
   "cell_type": "code",
   "execution_count": 16,
   "metadata": {
    "ExecuteTime": {
     "end_time": "2021-09-10T15:09:25.324204Z",
     "start_time": "2021-09-10T15:09:22.382693Z"
    }
   },
   "outputs": [
    {
     "name": "stdout",
     "output_type": "stream",
     "text": [
      "4\n",
      "1 3 1 5\n",
      "8\n"
     ]
    }
   ],
   "source": [
    "n = int(input())\n",
    "k = list(map(int, input().split()))\n",
    "\n",
    "d = [0] * 101\n",
    "d[0] = k[0]\n",
    "d[1] = max(k[0], k[1])\n",
    "\n",
    "for i in range(2, n):\n",
    "    d[i] = max(d[i - 1], d[i - 2] + k[i])\n",
    "    \n",
    "print(d[n - 1])"
   ]
  },
  {
   "cell_type": "markdown",
   "metadata": {},
   "source": [
    "ans) a_i = max(a_i-1, a_i-2 + k_i)"
   ]
  },
  {
   "cell_type": "code",
   "execution_count": 4,
   "metadata": {
    "ExecuteTime": {
     "end_time": "2021-04-23T08:12:23.926708Z",
     "start_time": "2021-04-23T08:12:21.002542Z"
    }
   },
   "outputs": [
    {
     "name": "stdout",
     "output_type": "stream",
     "text": [
      "4\n",
      "1 3 1 5\n",
      "8\n",
      "[1, 3, 3, 8, 0, 0, 0, 0, 0, 0, 0, 0, 0, 0, 0, 0, 0, 0, 0, 0, 0, 0, 0, 0, 0, 0, 0, 0, 0, 0, 0, 0, 0, 0, 0, 0, 0, 0, 0, 0, 0, 0, 0, 0, 0, 0, 0, 0, 0, 0, 0, 0, 0, 0, 0, 0, 0, 0, 0, 0, 0, 0, 0, 0, 0, 0, 0, 0, 0, 0, 0, 0, 0, 0, 0, 0, 0, 0, 0, 0, 0, 0, 0, 0, 0, 0, 0, 0, 0, 0, 0, 0, 0, 0, 0, 0, 0, 0, 0, 0]\n"
     ]
    }
   ],
   "source": [
    "# 정수 N을 입력받기\n",
    "n = int(input())\n",
    "# 모든 식량 정보 입력받기\n",
    "array = list(map(int, input().split()))\n",
    "\n",
    "# 앞서 계산된 결과를 저장하기 위한 DP 테이블 초기화\n",
    "d = [0] * 100\n",
    "\n",
    "# 다이나믹 프로그래밍(Dynamic Programming) 진행(보텀업)\n",
    "d[0] = array[0]\n",
    "d[1] = max(array[0], array[1])\n",
    "for i in range(2, n):\n",
    "    d[i] = max(d[i - 1], d[i - 2] + array[i])\n",
    "    \n",
    "# 계산된 결과 출력\n",
    "print(d[n - 1])"
   ]
  },
  {
   "cell_type": "markdown",
   "metadata": {},
   "source": [
    "<b> 3. 바닥 공사"
   ]
  },
  {
   "cell_type": "markdown",
   "metadata": {},
   "source": [
    "ans) a_i = a_i-1 + a_i-2 + a_i-2 = a_i-1 + a_i-2 * 2"
   ]
  },
  {
   "cell_type": "code",
   "execution_count": 5,
   "metadata": {
    "ExecuteTime": {
     "end_time": "2021-04-23T08:15:48.551700Z",
     "start_time": "2021-04-23T08:15:44.077941Z"
    }
   },
   "outputs": [
    {
     "name": "stdout",
     "output_type": "stream",
     "text": [
      "3\n",
      "5\n",
      "[1, 1, 3, 5, 0, 0, 0, 0, 0, 0, 0, 0, 0, 0, 0, 0, 0, 0, 0, 0, 0, 0, 0, 0, 0, 0, 0, 0, 0, 0, 0, 0, 0, 0, 0, 0, 0, 0, 0, 0, 0, 0, 0, 0, 0, 0, 0, 0, 0, 0, 0, 0, 0, 0, 0, 0, 0, 0, 0, 0, 0, 0, 0, 0, 0, 0, 0, 0, 0, 0, 0, 0, 0, 0, 0, 0, 0, 0, 0, 0, 0, 0, 0, 0, 0, 0, 0, 0, 0, 0, 0, 0, 0, 0, 0, 0, 0, 0, 0, 0]\n"
     ]
    }
   ],
   "source": [
    "# 정수 N을 입력받기\n",
    "n = int(input())\n",
    "\n",
    "# 앞서 계산된 결과를 저장하기 위한 DP 테이블 초기화\n",
    "d[0] * 1001\n",
    "\n",
    "# 다이나믹 프로그래밍(Dynamic Programming) 진행(보텀업)\n",
    "d[1] = 1\n",
    "d[2] = 3\n",
    "for i in range(3, n+1):\n",
    "    d[i] = (d[i - 1] + 2 * d[i - 2]) % 796796\n",
    "    \n",
    "# 계산된 결과 출력\n",
    "print(d[n])\n",
    "print(d)"
   ]
  },
  {
   "cell_type": "markdown",
   "metadata": {},
   "source": [
    "<b> 4. 효율적인 화폐 구성"
   ]
  },
  {
   "cell_type": "markdown",
   "metadata": {},
   "source": [
    "ans)\n",
    " - a_i-k를 만드는 방법이 존재하는 경우: a_i = min(a_i, a_i-k + 1)\n",
    " - a_i-k를 만드는 방법이 존재하지 않는 경우: a_i = 10,001"
   ]
  },
  {
   "cell_type": "code",
   "execution_count": 7,
   "metadata": {
    "ExecuteTime": {
     "end_time": "2021-04-23T08:20:59.707401Z",
     "start_time": "2021-04-23T08:20:56.431466Z"
    }
   },
   "outputs": [
    {
     "name": "stdout",
     "output_type": "stream",
     "text": [
      "2 15\n",
      "2\n",
      "3\n",
      "5\n",
      "[0, 10001, 1, 1, 2, 2, 2, 3, 3, 3, 4, 4, 4, 5, 5, 5]\n"
     ]
    }
   ],
   "source": [
    "# 정수 N, M을 입력받기\n",
    "n, m = map(int, input().split())\n",
    "# N개의 화폐 단위 정보를 입력받기\n",
    "array = []\n",
    "for i in range(n):\n",
    "    array.append(int(input()))\n",
    "    \n",
    "# 한 번 계산된 결과를 저장하기 위한 DP 테이블 초기화\n",
    "d = [10001] * (m + 1)\n",
    "\n",
    "# 다이나믹 프로그래밍(Dynamic Programming) 진행(보텀업)\n",
    "d[0] = 0\n",
    "for i in range(n):\n",
    "    for j in range(array[i], m + 1):\n",
    "        if d[j - array[i]] != 10001: # (i - k)원을 만드는 방법이 존재하는 경우\n",
    "            d[j] = min(d[j], d[j - array[i]] + 1)\n",
    "            \n",
    "# 계산된 결과 출력\n",
    "if d[m] == 10001: # 최종적으로 M원을 만드는 방법이 없는 경우\n",
    "    print(-1)\n",
    "else:\n",
    "    print(d[m])\n",
    "    \n",
    "print(d)"
   ]
  }
 ],
 "metadata": {
  "kernelspec": {
   "display_name": "Python 3",
   "language": "python",
   "name": "python3"
  },
  "language_info": {
   "codemirror_mode": {
    "name": "ipython",
    "version": 3
   },
   "file_extension": ".py",
   "mimetype": "text/x-python",
   "name": "python",
   "nbconvert_exporter": "python",
   "pygments_lexer": "ipython3",
   "version": "3.7.6"
  },
  "toc": {
   "base_numbering": 1,
   "nav_menu": {},
   "number_sections": true,
   "sideBar": true,
   "skip_h1_title": false,
   "title_cell": "Table of Contents",
   "title_sidebar": "Contents",
   "toc_cell": false,
   "toc_position": {},
   "toc_section_display": true,
   "toc_window_display": false
  },
  "varInspector": {
   "cols": {
    "lenName": 16,
    "lenType": 16,
    "lenVar": 40
   },
   "kernels_config": {
    "python": {
     "delete_cmd_postfix": "",
     "delete_cmd_prefix": "del ",
     "library": "var_list.py",
     "varRefreshCmd": "print(var_dic_list())"
    },
    "r": {
     "delete_cmd_postfix": ") ",
     "delete_cmd_prefix": "rm(",
     "library": "var_list.r",
     "varRefreshCmd": "cat(var_dic_list()) "
    }
   },
   "types_to_exclude": [
    "module",
    "function",
    "builtin_function_or_method",
    "instance",
    "_Feature"
   ],
   "window_display": false
  }
 },
 "nbformat": 4,
 "nbformat_minor": 4
}

{
 "cells": [
  {
   "cell_type": "markdown",
   "metadata": {},
   "source": [
    "<b> 1. 팀 결성"
   ]
  },
  {
   "cell_type": "markdown",
   "metadata": {},
   "source": [
    "ans)"
   ]
  },
  {
   "cell_type": "code",
   "execution_count": 2,
   "metadata": {
    "ExecuteTime": {
     "end_time": "2021-07-16T10:12:47.383186Z",
     "start_time": "2021-07-16T10:12:23.571599Z"
    }
   },
   "outputs": [
    {
     "name": "stdout",
     "output_type": "stream",
     "text": [
      "7 8\n",
      "0 1 3\n",
      "1 1 7\n",
      "NO\n",
      "0 7 6\n",
      "1 7 1\n",
      "NO\n",
      "0 3 7\n",
      "0 4 2\n",
      "0 1 1\n",
      "1 1 1\n",
      "YES\n"
     ]
    }
   ],
   "source": [
    "# 특정 원소가 속한 집합을 찾기\n",
    "def find_parent(parent, x):\n",
    "    # 루트 노드가 아니라면, 루트 노드를 찾을 때까지 재귀적으로 호출\n",
    "    if parent[x] != x:\n",
    "        return find_parent(parent, parent[x])\n",
    "    return parent[x]\n",
    "\n",
    "# 두 원소가 속한 집합을 합치기Q\n",
    "def union_parent(parent, a, b):\n",
    "    a = find_parent(parent, a)\n",
    "    b = find_parent(parent, b)\n",
    "    if a < b:\n",
    "        parent[b] = a\n",
    "    else:\n",
    "        parent[a] = b\n",
    "        \n",
    "# 노드의 개수와 간선(union 연산)의 개수 입력받기\n",
    "n, m = map(int, input().split())\n",
    "parent = [0] * (n + 1) # 부모 테이블 초기화\n",
    "\n",
    "# 부모 테이블상에서, 부모를 자기 자신으로 초기화\n",
    "for i in range(0, n + 1):\n",
    "    parent[i] = i\n",
    "    \n",
    "# 각 연산을 하나씩 확인\n",
    "for i in range(m):\n",
    "    oper, a, b = map(int, input().split())\n",
    "    # 합집합(union) 연산인 경우\n",
    "    if oper == 0:\n",
    "        union_parent(parent, a, b)\n",
    "    # 찾기(find) 연산인 경우\n",
    "    elif oper == 1:\n",
    "        if find_parent(parent, a) == find_parent(parent, b):\n",
    "            print('YES')\n",
    "        else:\n",
    "            print('NO')"
   ]
  },
  {
   "cell_type": "markdown",
   "metadata": {},
   "source": [
    "<b> 2. 도시 분할 계획"
   ]
  },
  {
   "cell_type": "markdown",
   "metadata": {},
   "source": [
    "ans) 최소 신장 트리를 찾은 뒤에 간선 중 가장 비용이 큰 간선을 제거 -> 최소 신장 트리 2개"
   ]
  },
  {
   "cell_type": "code",
   "execution_count": 4,
   "metadata": {
    "ExecuteTime": {
     "end_time": "2021-07-16T10:24:25.923650Z",
     "start_time": "2021-07-16T10:23:56.584546Z"
    }
   },
   "outputs": [
    {
     "name": "stdout",
     "output_type": "stream",
     "text": [
      "7 12\n",
      "1 2 3\n",
      "1 3 2\n",
      "3 2 1\n",
      "2 5 2\n",
      "3 4 4\n",
      "7 3 6\n",
      "5 1 5\n",
      "1 6 2\n",
      "6 4 1\n",
      "6 5 3\n",
      "4 5 3\n",
      "6 7 4\n",
      "8\n",
      "1 1 1 1 1 1 1 "
     ]
    }
   ],
   "source": [
    "# 특정 원소가 속한 집합을 찾기\n",
    "def find_parent(parent, x):\n",
    "    # 루트 노드가 아니라면, 루트 노드를 찾을 때까지 재귀적으로 호출\n",
    "    if parent[x] != x:\n",
    "        return find_parent(parent, parent[x])\n",
    "    return parent[x]\n",
    "\n",
    "# 두 원소가 속한 집합을 합치기\n",
    "def union_parent(parent, a, b):\n",
    "    a = find_parent(parent, a)\n",
    "    b = find_parent(parent, b)\n",
    "    if a < b:\n",
    "        parent[b] = a\n",
    "    else:\n",
    "        parent[a] = b\n",
    "        \n",
    "# 노드의 개수와 간선(union 연산)의 개수 입력받기\n",
    "v, e = map(int, input().split())\n",
    "parent = [0] * (v + 1) # 부모 테이블 초기화\n",
    "\n",
    "# 모든 간선을 담을 리스트와 최종 비용을 담을 변수\n",
    "edges = []\n",
    "result = 0\n",
    "\n",
    "# 부모 테이블상에서, 부모를 자기 자신으로 초기화\n",
    "for i in range(1, v + 1):\n",
    "    parent[i] = i\n",
    "    \n",
    "# 모든 간선에 대한 정보를 입력받기\n",
    "for _ in range(e):\n",
    "    a, b, cost = map(int, input().split())\n",
    "    # 비용순으로 정렬하기 위해서 튜플의 첫 번째 원소를 비용으로 설정\n",
    "    edges.append((cost, a, b))\n",
    "    \n",
    "# 간선을 비용순으로 정렬\n",
    "edges.sort()\n",
    "last = 0 # 최소 신장 트리에 포함되는 간선 중에서 가장 비용이 큰 간선\n",
    "\n",
    "# 간선을 하나씩 확인하며\n",
    "for edge in edges:\n",
    "    cost, a, b = edge\n",
    "    # 사이클이 발생하지 않는 경우에만 집합에 포함\n",
    "    if find_parent(parent, a) != find_parent(parent, b):\n",
    "        union_parent(parent, a, b)\n",
    "        result += cost\n",
    "        last = cost # 결국 마지막에 추가되는 간선이 비용이 가장 큰 간선이므로\n",
    "        \n",
    "print(result - last)\n",
    "for i in range(1, v + 1):\n",
    "    print(find_parent(parent, i), end=' ')"
   ]
  },
  {
   "cell_type": "markdown",
   "metadata": {},
   "source": [
    "<b> 3. 커리큘럼"
   ]
  },
  {
   "cell_type": "markdown",
   "metadata": {},
   "source": [
    "ans)"
   ]
  },
  {
   "cell_type": "code",
   "execution_count": 6,
   "metadata": {
    "ExecuteTime": {
     "end_time": "2021-07-16T10:33:25.665908Z",
     "start_time": "2021-07-16T10:33:14.235550Z"
    }
   },
   "outputs": [
    {
     "name": "stdout",
     "output_type": "stream",
     "text": [
      "5\n",
      "10 -1\n",
      "10 1 -1\n",
      "4 1 -1\n",
      "4 3 1 -1\n",
      "3 3 -1\n",
      "graph:  [[], [2, 3, 4], [], [4, 5], [], []]\n",
      "time:  [0, 10, 10, 4, 4, 3]\n",
      "10\n",
      "20\n",
      "14\n",
      "18\n",
      "17\n"
     ]
    }
   ],
   "source": [
    "from collections import deque\n",
    "import copy\n",
    "\n",
    "# 노드의 개수 입력받기\n",
    "v = int(input())\n",
    "# 모든 노드에 대한 진입차수는 0으로 초기화\n",
    "indegree = [0] * (v + 1)\n",
    "# 각 노드에 연결된 간선 정보를 담기 위한 연결 리스트(그래프) 초기화\n",
    "graph = [[] for i in range(v + 1)]\n",
    "# 각 강의 시간을 0으로 초기화\n",
    "time = [0] * (v + 1)\n",
    "\n",
    "# 방향 그래프의 모든 간선 정보를 입력받기\n",
    "for i in range(1, v + 1):\n",
    "    data = list(map(int, input().split()))\n",
    "    time[i] = data[0] # 첫 번째 수는 시간 정보를 담고 있음\n",
    "    for x in data[1:-1]:\n",
    "        indegree[i] += 1\n",
    "        graph[x].append(i)\n",
    "    \n",
    "print('graph: ', graph)\n",
    "print('time: ', time)\n",
    "# 위상 정렬 함수\n",
    "def topology_sort():\n",
    "    result = copy.deepcopy(time) # 알고리즘 수행 결과를 담을 리스트\n",
    "    q = deque() # 큐 기능을 위한 deque 라이브러리 사용\n",
    "    \n",
    "    # 처음 시작할 때는 진입차수가 0인 노드를 큐에 삽입\n",
    "    for i in range(1, v + 1):\n",
    "        if indegree[i] == 0:\n",
    "            q.append(i)\n",
    "            \n",
    "    # 큐가 빌 때까지 반복\n",
    "    while q:\n",
    "        # 큐에서 원소 꺼내기\n",
    "        now = q.popleft()\n",
    "        # 해당 원소와 연결된 노드들의 진입차수에서 1 빼기\n",
    "        for i in graph[now]:\n",
    "            result[i] = max(result[i], result[now] + time[i])\n",
    "            indegree[i] -= 1\n",
    "            # 새롭게 진입차수가 0이 되는 노드를 큐에 삽입\n",
    "            if indegree[i] == 0:\n",
    "                q.append(i)\n",
    "                \n",
    "    # 위상 정렬을 수행한 결과 출력\n",
    "    for i in range(1, v + 1):\n",
    "        print(result[i])\n",
    "            \n",
    "topology_sort()"
   ]
  },
  {
   "cell_type": "markdown",
   "metadata": {},
   "source": [
    "+)"
   ]
  },
  {
   "cell_type": "code",
   "execution_count": 10,
   "metadata": {
    "ExecuteTime": {
     "end_time": "2021-01-03T05:53:29.737867Z",
     "start_time": "2021-01-03T05:53:29.728934Z"
    }
   },
   "outputs": [
    {
     "name": "stdout",
     "output_type": "stream",
     "text": [
      "[1, 2, 3, 4, 5, 6, 7, 8, 9, 10]\n",
      "[1, 2, 3, 4, 5, 6, 7, 8, 9]\n"
     ]
    }
   ],
   "source": [
    "import copy\n",
    "\n",
    "a = [1,2,3,4,5,6,7,8,9]\n",
    "b = a\n",
    "c = copy.deepcopy(a)\n",
    "a.append(10)\n",
    "print(b)\n",
    "print(c)"
   ]
  }
 ],
 "metadata": {
  "kernelspec": {
   "display_name": "Python 3",
   "language": "python",
   "name": "python3"
  },
  "language_info": {
   "codemirror_mode": {
    "name": "ipython",
    "version": 3
   },
   "file_extension": ".py",
   "mimetype": "text/x-python",
   "name": "python",
   "nbconvert_exporter": "python",
   "pygments_lexer": "ipython3",
   "version": "3.7.6"
  },
  "toc": {
   "base_numbering": 1,
   "nav_menu": {},
   "number_sections": true,
   "sideBar": true,
   "skip_h1_title": false,
   "title_cell": "Table of Contents",
   "title_sidebar": "Contents",
   "toc_cell": false,
   "toc_position": {},
   "toc_section_display": true,
   "toc_window_display": false
  },
  "varInspector": {
   "cols": {
    "lenName": 16,
    "lenType": 16,
    "lenVar": 40
   },
   "kernels_config": {
    "python": {
     "delete_cmd_postfix": "",
     "delete_cmd_prefix": "del ",
     "library": "var_list.py",
     "varRefreshCmd": "print(var_dic_list())"
    },
    "r": {
     "delete_cmd_postfix": ") ",
     "delete_cmd_prefix": "rm(",
     "library": "var_list.r",
     "varRefreshCmd": "cat(var_dic_list()) "
    }
   },
   "types_to_exclude": [
    "module",
    "function",
    "builtin_function_or_method",
    "instance",
    "_Feature"
   ],
   "window_display": false
  }
 },
 "nbformat": 4,
 "nbformat_minor": 4
}

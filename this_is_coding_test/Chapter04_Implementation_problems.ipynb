{
 "cells": [
  {
   "cell_type": "markdown",
   "metadata": {
    "ExecuteTime": {
     "end_time": "2020-08-25T15:12:44.732926Z",
     "start_time": "2020-08-25T15:12:44.722952Z"
    }
   },
   "source": [
    "<b> 1. 왕실의 나이트"
   ]
  },
  {
   "cell_type": "markdown",
   "metadata": {},
   "source": [
    "try)"
   ]
  },
  {
   "cell_type": "code",
   "execution_count": 1,
   "metadata": {
    "ExecuteTime": {
     "end_time": "2021-09-10T06:59:01.252562Z",
     "start_time": "2021-09-10T06:58:58.865627Z"
    }
   },
   "outputs": [
    {
     "name": "stdout",
     "output_type": "stream",
     "text": [
      "a1\n",
      "2\n"
     ]
    }
   ],
   "source": [
    "loc = input()\n",
    "\n",
    "route = [[2, 1], [-2, 1], [2, -1], [-2, -1], [1, 2], [-1, 2], [1, -2], [-1, -2]]\n",
    "\n",
    "count = 0\n",
    "for i in range(8):\n",
    "    x = ord(loc[0]) - ord('a') + 1 + route[i][0]\n",
    "    y = int(loc[1]) + route[i][1]\n",
    "    \n",
    "    if x >= 1 and x <= 8 and y >= 1 and y <= 8:\n",
    "        count += 1\n",
    "        \n",
    "print(count)"
   ]
  },
  {
   "cell_type": "markdown",
   "metadata": {},
   "source": [
    "ans)"
   ]
  },
  {
   "cell_type": "code",
   "execution_count": null,
   "metadata": {},
   "outputs": [],
   "source": [
    "# 현재 나이트의 위치 입력받기\n",
    "input_data = input()\n",
    "row = int(cur[1])\n",
    "column = ord(cur[0]) - ord('a') + 1\n",
    "steps = [[-1, -2], [1, -2], [-1, 2], [1, 2],\n",
    "          [-2, 1], [-2, -1], [2, 1], [2, -1]]\n",
    "\n",
    "result = 0\n",
    "for step in steps:\n",
    "    next_row = row + step[0]\n",
    "    next_column = row + step[1]\n",
    "    if next_row >= 1 and next_column >= 1 and next_row <= 8 and next_column <= 8:\n",
    "        result += 1\n",
    "\n",
    "print(result)"
   ]
  },
  {
   "cell_type": "markdown",
   "metadata": {},
   "source": [
    "<b> 2. 게임 개발"
   ]
  },
  {
   "cell_type": "markdown",
   "metadata": {},
   "source": [
    "try)"
   ]
  },
  {
   "cell_type": "code",
   "execution_count": 9,
   "metadata": {
    "ExecuteTime": {
     "end_time": "2021-12-18T15:21:00.849896Z",
     "start_time": "2021-12-18T15:20:51.752290Z"
    }
   },
   "outputs": [
    {
     "name": "stdout",
     "output_type": "stream",
     "text": [
      "4 4\n",
      "1 1 0\n",
      "1 1 1 1\n",
      "1 0 0 1\n",
      "1 1 0 1\n",
      "1 1 1 1\n",
      "3\n"
     ]
    }
   ],
   "source": [
    "from itertools import chain\n",
    "\n",
    "def turn_left():\n",
    "    global direction\n",
    "    direction -= 1\n",
    "    if direction == -1:\n",
    "        direction = 3\n",
    "\n",
    "n, m = map(int, input().split())\n",
    "\n",
    "x, y, direction = map(int, input().split())\n",
    "\n",
    "graph = []\n",
    "for i in range(n):\n",
    "    graph.append(list(map(int, input().split())))\n",
    "    \n",
    "visit = [[-1] * m for _ in range(n)]\n",
    "visit[x][y] = 0\n",
    "\n",
    "# 북, 동, 남, 서\n",
    "dx = [0, 1, 0, -1]\n",
    "dy = [-1, 0, 1, 0]\n",
    "\n",
    "turn_time = 0\n",
    "while True:\n",
    "    turn_left()\n",
    "    nx = x + dx[direction]\n",
    "    ny = y + dy[direction]\n",
    "    \n",
    "    if graph[nx][ny] == 0 and visit[nx][ny] == -1:\n",
    "        visit[nx][ny] = 0\n",
    "        x = nx\n",
    "        y = ny\n",
    "        turn_time = 0\n",
    "        continue\n",
    "    else:\n",
    "        turn_time += 1\n",
    "    \n",
    "    if turn_time == 4:\n",
    "        nx = x - dx[direction]\n",
    "        ny = y - dy[direction]\n",
    "        \n",
    "        if graph[nx][ny] == 0:\n",
    "            x = nx\n",
    "            y = ny\n",
    "            turn_time = 0\n",
    "        else:\n",
    "            break\n",
    "            \n",
    "print(list(chain(*visit)).count(0))"
   ]
  },
  {
   "cell_type": "markdown",
   "metadata": {
    "ExecuteTime": {
     "end_time": "2020-12-02T11:31:07.428152Z",
     "start_time": "2020-12-02T11:31:07.421170Z"
    }
   },
   "source": [
    "ans)"
   ]
  },
  {
   "cell_type": "code",
   "execution_count": 20,
   "metadata": {
    "ExecuteTime": {
     "end_time": "2020-08-25T15:54:53.568480Z",
     "start_time": "2020-08-25T15:54:33.199430Z"
    },
    "scrolled": true
   },
   "outputs": [
    {
     "name": "stdout",
     "output_type": "stream",
     "text": [
      "4 4\n",
      "1 1 0\n",
      "1 1 1 1\n",
      "1 0 0 1\n",
      "1 1 0 1\n",
      "1 1 1 1\n",
      "3\n"
     ]
    }
   ],
   "source": [
    "# N, M을 공백으로 구분하여 입력받기\n",
    "n,m = map(int, input().split())\n",
    "\n",
    "# 방문한 위치를 저장하기 위한 맵을 생성하여 0으로 초기화\n",
    "d = [[0] * m for _ in range(n)]\n",
    "# 현재 캐릭터의 X 좌표, Y 좌표, 방향을 입력받기\n",
    "x, y, direction = map(int, input().split())\n",
    "d[x][y] = 1 # 현재 좌표 방문 처리\n",
    "\n",
    "# 전체 맵 정보를 입력받기\n",
    "array = []\n",
    "for i in range(n):\n",
    "    array.append(list(map(int, input().split())))\n",
    "    \n",
    "# 북, 동, 남, 서 방향 정의\n",
    "dx = [-1, 0, 1, 0]\n",
    "dy = [0, 1, 0, -1]\n",
    "\n",
    "# 왼쪽으로 회전\n",
    "def turn_left():\n",
    "    global direction\n",
    "    direction -= 1\n",
    "    if direction == -1:\n",
    "        direction = 3\n",
    "        \n",
    "# 시뮬레이션 시작\n",
    "count = 1\n",
    "turn_time = 0\n",
    "while True:\n",
    "    # 왼쪽으로 회전\n",
    "    turn_left()\n",
    "    nx = x + dx[direction]\n",
    "    ny = y + dy[direction]\n",
    "    # 회전한 이후 정면에 가보지 않은 칸이 없거나 바다인 경우\n",
    "    if d[nx][ny] == 0 and array[nx][ny] == 0:\n",
    "        d[nx][ny] = 1\n",
    "        x = nx\n",
    "        y = ny\n",
    "        count += 1\n",
    "        turn_time = 0\n",
    "        continue\n",
    "    else:\n",
    "        turn_time += 1\n",
    "    # 네 방향 모두 갈 수 없는 경우\n",
    "    if turn_time == 4:\n",
    "        nx = x - dx[direction]\n",
    "        ny = y - dy[direction]\n",
    "        # 뒤로 갈 수 있다면 이동하기\n",
    "        if array[nx][ny] == 0:\n",
    "            x = nx\n",
    "            y = ny\n",
    "        # 뒤가 바다로 막혀있는 경우\n",
    "        else:\n",
    "            break\n",
    "        turn_time = 0\n",
    "        \n",
    "print(count)"
   ]
  }
 ],
 "metadata": {
  "kernelspec": {
   "display_name": "Python 3",
   "language": "python",
   "name": "python3"
  },
  "language_info": {
   "codemirror_mode": {
    "name": "ipython",
    "version": 3
   },
   "file_extension": ".py",
   "mimetype": "text/x-python",
   "name": "python",
   "nbconvert_exporter": "python",
   "pygments_lexer": "ipython3",
   "version": "3.7.6"
  },
  "toc": {
   "base_numbering": 1,
   "nav_menu": {},
   "number_sections": true,
   "sideBar": true,
   "skip_h1_title": false,
   "title_cell": "Table of Contents",
   "title_sidebar": "Contents",
   "toc_cell": false,
   "toc_position": {},
   "toc_section_display": true,
   "toc_window_display": false
  },
  "varInspector": {
   "cols": {
    "lenName": 16,
    "lenType": 16,
    "lenVar": 40
   },
   "kernels_config": {
    "python": {
     "delete_cmd_postfix": "",
     "delete_cmd_prefix": "del ",
     "library": "var_list.py",
     "varRefreshCmd": "print(var_dic_list())"
    },
    "r": {
     "delete_cmd_postfix": ") ",
     "delete_cmd_prefix": "rm(",
     "library": "var_list.r",
     "varRefreshCmd": "cat(var_dic_list()) "
    }
   },
   "types_to_exclude": [
    "module",
    "function",
    "builtin_function_or_method",
    "instance",
    "_Feature"
   ],
   "window_display": false
  }
 },
 "nbformat": 4,
 "nbformat_minor": 4
}

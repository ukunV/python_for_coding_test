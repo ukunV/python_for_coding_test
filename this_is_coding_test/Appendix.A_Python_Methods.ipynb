{
 "cells": [
  {
   "cell_type": "markdown",
   "metadata": {},
   "source": [
    "<b> 실수형"
   ]
  },
  {
   "cell_type": "code",
   "execution_count": 6,
   "metadata": {
    "ExecuteTime": {
     "end_time": "2021-01-05T11:35:33.836912Z",
     "start_time": "2021-01-05T11:35:33.829933Z"
    }
   },
   "outputs": [
    {
     "name": "stdout",
     "output_type": "stream",
     "text": [
      "5.0\n",
      "-0.7\n",
      "1000000000.0\n",
      "752.5\n",
      "3.954\n",
      "0.8999999999999999\n",
      "False\n",
      "0.9\n",
      "True\n"
     ]
    }
   ],
   "source": [
    "# 소수부가 0일 때 0을 생략\n",
    "a = 5.\n",
    "print(a)\n",
    "\n",
    "# 정수부가 0일 때 0을 생략\n",
    "a = -.7\n",
    "print(a)\n",
    "\n",
    "# 10억의 지수 표현 방식(e^9)\n",
    "a = 1e9\n",
    "print(a)\n",
    "\n",
    "# 752.5(e^-3)\n",
    "a = 75.25e1\n",
    "print(a)\n",
    "\n",
    "#3.954(e^-3)\n",
    "a = 3954e-3\n",
    "print(a)\n",
    "\n",
    "a = 0.3 + 0.6\n",
    "print(a)\n",
    "\n",
    "if a == 0.9:\n",
    "    print(True)\n",
    "else:\n",
    "    print(False)\n",
    "    \n",
    "a = 0.3 + 0.6\n",
    "print(round(a,4))\n",
    "\n",
    "if round(a,4) == 0.9:\n",
    "    print(True)\n",
    "else:\n",
    "    print(False)"
   ]
  },
  {
   "cell_type": "markdown",
   "metadata": {
    "ExecuteTime": {
     "end_time": "2021-01-05T11:38:08.867831Z",
     "start_time": "2021-01-05T11:38:08.862844Z"
    }
   },
   "source": [
    "<b> 리스트 컴프리헨션"
   ]
  },
  {
   "cell_type": "code",
   "execution_count": 12,
   "metadata": {
    "ExecuteTime": {
     "end_time": "2021-01-05T11:43:31.584709Z",
     "start_time": "2021-01-05T11:43:31.578757Z"
    }
   },
   "outputs": [
    {
     "name": "stdout",
     "output_type": "stream",
     "text": [
      "[1, 3, 5, 7, 9, 11, 13, 15, 17, 19]\n",
      "[1, 4, 9, 16, 25, 36, 49, 64, 81]\n",
      "[[0, 0, 0], [0, 5, 0], [0, 0, 0]]\n",
      "[[0, 5, 0], [0, 5, 0], [0, 5, 0]]\n"
     ]
    }
   ],
   "source": [
    "# 0부터 19까지의 수 중에서 홀수만 포함하는 리스트\n",
    "array = [i for i in range(20) if i % 2 == 1]\n",
    " \n",
    "print(array)\n",
    "\n",
    "# 1부터 9까지의 수의 제곱값을 포함하는 리스트\n",
    "array = [i * i for i in range(1,10)]\n",
    "\n",
    "print(array)\n",
    "\n",
    "# N X M 크기의 2차원 리스트 초기화\n",
    "n = 3\n",
    "m = 3\n",
    "array = [[0] * m for _ in range(n)]\n",
    "array[1][1] = 5\n",
    "\n",
    "print(array)\n",
    "\n",
    "# N X M 크기의 2차원 리스트 초기화(잘못된 방법)\n",
    "n = 3\n",
    "m = 3\n",
    "array = [[0] * m] * n\n",
    "array[1][1] = 5\n",
    "\n",
    "print(array)"
   ]
  },
  {
   "cell_type": "markdown",
   "metadata": {},
   "source": [
    "<b> 리스트 관련 기타 메서드\n",
    "\n",
    "- append(): O(N)\n",
    "- sort(reverse=True/False): O(NlogN)\n",
    "- reverse(): O(N)\n",
    "- insert(삽입할 위치 인덱스, 삽입할 값): O(N)\n",
    "- count(): O(N)\n",
    "- remove(): O(N)"
   ]
  },
  {
   "cell_type": "code",
   "execution_count": 19,
   "metadata": {
    "ExecuteTime": {
     "end_time": "2021-01-05T12:03:52.903118Z",
     "start_time": "2021-01-05T12:03:52.887625Z"
    }
   },
   "outputs": [
    {
     "name": "stdout",
     "output_type": "stream",
     "text": [
      "24\n"
     ]
    }
   ],
   "source": [
    "result = eval('3 * 5 + 9')\n",
    "print(result)"
   ]
  },
  {
   "cell_type": "code",
   "execution_count": 26,
   "metadata": {
    "ExecuteTime": {
     "end_time": "2021-01-05T12:08:46.441402Z",
     "start_time": "2021-01-05T12:08:46.433459Z"
    }
   },
   "outputs": [
    {
     "name": "stdout",
     "output_type": "stream",
     "text": [
      "[('a', 'b', 'c'), ('a', 'c', 'b'), ('b', 'a', 'c'), ('b', 'c', 'a'), ('c', 'a', 'b'), ('c', 'b', 'a')]\n",
      "[('a', 'b'), ('a', 'c'), ('b', 'c')]\n",
      "[('a', 'a'), ('a', 'b'), ('a', 'c'), ('b', 'a'), ('b', 'b'), ('b', 'c'), ('c', 'a'), ('c', 'b'), ('c', 'c')]\n",
      "[('a', 'a'), ('a', 'b'), ('a', 'c'), ('b', 'b'), ('b', 'c'), ('c', 'c')]\n"
     ]
    }
   ],
   "source": [
    "from itertools import permutations\n",
    "from itertools import combinations\n",
    "from itertools import product\n",
    "from itertools import combinations_with_replacement\n",
    "\n",
    "data = ['a', 'b', 'c'] # 데이터 준비\n",
    "result = list(permutations(data, 3)) # 모든 순열 구하기\n",
    "\n",
    "print(result)\n",
    "\n",
    "data = ['a', 'b', 'c'] # 데이터 준비\n",
    "result = list(combinations(data, 2)) # 2개를 뽑는 모든 조합 구하기\n",
    "\n",
    "print(result)\n",
    "\n",
    "data = ['a', 'b', 'c'] # 데이터 준비\n",
    "result = list(product(data, repeat=2)) # 2개를 뽑는 모든 순열 구하기(중복 허용)\n",
    "\n",
    "print(result)\n",
    "\n",
    "data = ['a', 'b', 'c'] # 데이터 준비\n",
    "result = list(combinations_with_replacement(data, 2)) # 2개를 뽑는 모든 조합 구하기(중복 허용)\n",
    "\n",
    "print(result)"
   ]
  },
  {
   "cell_type": "markdown",
   "metadata": {
    "ExecuteTime": {
     "end_time": "2021-01-05T12:11:07.176397Z",
     "start_time": "2021-01-05T12:11:07.171411Z"
    }
   },
   "source": [
    "<b> heapq"
   ]
  },
  {
   "cell_type": "markdown",
   "metadata": {},
   "source": [
    "파이썬의 힙은 최소 힙으로 구성되어 있으므로 단순히 원소를 힙에 전부 넣었다가 빼는 것만으로도 시간 복잡도 O(NlogN)에 오름차순 정렬이 완료된다."
   ]
  },
  {
   "cell_type": "code",
   "execution_count": 3,
   "metadata": {
    "ExecuteTime": {
     "end_time": "2021-12-15T07:29:44.428102Z",
     "start_time": "2021-12-15T07:29:44.413994Z"
    }
   },
   "outputs": [
    {
     "name": "stdout",
     "output_type": "stream",
     "text": [
      "[0, 1, 2, 3, 4, 5, 6, 7, 8, 9]\n"
     ]
    }
   ],
   "source": [
    "import heapq\n",
    "\n",
    "def heapsort(iterable):\n",
    "    h = []\n",
    "    result = []\n",
    "    \n",
    "    # 모든 원소를 차례대로 힙에 삽입\n",
    "    for value in iterable:\n",
    "        heapq.heappush(h, value)\n",
    "    \n",
    "    # 힙에 삽입된 모든 원소를 차례대로 꺼내어 담기\n",
    "    for i in range(len(h)):\n",
    "        result.append(heapq.heappop(h))\n",
    "\n",
    "    return result\n",
    "\n",
    "result = heapsort([1, 3, 5, 7, 9, 2, 4, 6, 8, 0])\n",
    "print(result)"
   ]
  },
  {
   "cell_type": "markdown",
   "metadata": {
    "ExecuteTime": {
     "end_time": "2021-01-05T12:14:20.346069Z",
     "start_time": "2021-01-05T12:14:20.340085Z"
    }
   },
   "source": [
    "파이썬에서는 최대 힙을 제공하지 않기 때문에 heapq 라이브러리를 이용하여 최대 힙을 구현해야 할 때는 원소의 부호를 임시로 변경하는 방식을 사용한다."
   ]
  },
  {
   "cell_type": "code",
   "execution_count": 30,
   "metadata": {
    "ExecuteTime": {
     "end_time": "2021-01-05T12:14:41.348057Z",
     "start_time": "2021-01-05T12:14:41.342278Z"
    }
   },
   "outputs": [
    {
     "name": "stdout",
     "output_type": "stream",
     "text": [
      "[9, 8, 7, 6, 5, 4, 3, 2, 1, 0]\n"
     ]
    }
   ],
   "source": [
    "import heapq\n",
    "\n",
    "def heapsort(iterable):\n",
    "    h = []\n",
    "    result = []\n",
    "    # 모든 원소를 차례대로 힙에 삽입\n",
    "    for value in iterable:\n",
    "        heapq.heappush(h, -value)\n",
    "        \n",
    "    # 힙에 삽입된 모든 원소를 차례대로 꺼내어 담기\n",
    "    for i in range(len(h)):\n",
    "        result.append(-heapq.heappop(h))\n",
    "        \n",
    "    return result\n",
    "\n",
    "result = heapsort([1, 3, 5, 7, 9, 2, 4, 6, 8, 0])\n",
    "print(result)"
   ]
  },
  {
   "cell_type": "markdown",
   "metadata": {},
   "source": [
    "<b> bisect"
   ]
  },
  {
   "cell_type": "markdown",
   "metadata": {
    "ExecuteTime": {
     "end_time": "2021-01-05T12:16:57.876716Z",
     "start_time": "2021-01-05T12:16:57.871688Z"
    }
   },
   "source": [
    "- bisect_left(a, x): 정렬된 순서를 유지하면서 리스트 a에 데이터 x를 삽입할 가장 왼쪽 인덱스를 찾는 메서드\n",
    "- bisect_right(a, x): 정렬된 순서를 유지하면서 리스트 a에 데이터 x를 삽입할 가장 오른쪽 인덱스를 찾는 메서드"
   ]
  },
  {
   "cell_type": "code",
   "execution_count": 5,
   "metadata": {
    "ExecuteTime": {
     "end_time": "2021-12-15T07:32:55.694724Z",
     "start_time": "2021-12-15T07:32:55.680759Z"
    }
   },
   "outputs": [
    {
     "name": "stdout",
     "output_type": "stream",
     "text": [
      "2\n",
      "4\n"
     ]
    }
   ],
   "source": [
    "from bisect import bisect_left, bisect_right\n",
    "\n",
    "a = [1, 2, 4, 4, 8]\n",
    "x = 4\n",
    "\n",
    "print(bisect_left(a, x))\n",
    "print(bisect_right(a, x))"
   ]
  },
  {
   "cell_type": "markdown",
   "metadata": {
    "ExecuteTime": {
     "end_time": "2021-01-05T12:20:10.763703Z",
     "start_time": "2021-01-05T12:20:10.758719Z"
    }
   },
   "source": [
    "bisect_left(), bisect_right() 메서드는 '정렬된 리스트'에서 '값이 특정 범위에 속하는 원소의 개수'를 구하고자 할 때, 효과적으로 사용될 수 있다. <br> 원소의 값을 x라고 할 때, left_value <= x <= right_value인 원소의 개수를 O(logN)으로 빠르게 계산할 수 있다."
   ]
  },
  {
   "cell_type": "code",
   "execution_count": 37,
   "metadata": {
    "ExecuteTime": {
     "end_time": "2021-01-05T12:22:30.213677Z",
     "start_time": "2021-01-05T12:22:30.207518Z"
    }
   },
   "outputs": [
    {
     "name": "stdout",
     "output_type": "stream",
     "text": [
      "2\n",
      "6\n"
     ]
    }
   ],
   "source": [
    "from bisect import bisect_left, bisect_right\n",
    "\n",
    "# 값이 [left_value, right_value]인 데이터의 개수를 반환하는 함수\n",
    "def count_by_range(a, left_value, right_value):\n",
    "    right_index = bisect_right(a, right_value)\n",
    "    left_index = bisect_left(a, left_value)\n",
    "    return right_index - left_index\n",
    "\n",
    "# 리스트 선언\n",
    "a = [1, 2, 3, 3, 3, 3, 4, 4, 8, 9]\n",
    "\n",
    "# 값이 4인 데이터 개수 출력\n",
    "print(count_by_range(a, 4, 4))\n",
    "\n",
    "# 값이 [-1, 3] 범위에 있는 데이터 개수 출력\n",
    "print(count_by_range(a, -1, 3))"
   ]
  },
  {
   "cell_type": "markdown",
   "metadata": {},
   "source": [
    "<b> collections"
   ]
  },
  {
   "cell_type": "markdown",
   "metadata": {},
   "source": [
    "- 가장 앞쪽에 원소 추가<br>\n",
    "list: O(N) // deque: O(1)\n",
    "- 가장 뒤쪽에 원소 추가<br>\n",
    "list: O(1) // deque: O(1)\n",
    "- 가장 앞쪽에 있는 원소 제거<br>\n",
    "list: O(N) // deque: O(1)\n",
    "- 가장 뒤쪽에 있는 원소 제거<br>\n",
    "list: O(1) // deque: O(1)"
   ]
  },
  {
   "cell_type": "code",
   "execution_count": 38,
   "metadata": {
    "ExecuteTime": {
     "end_time": "2021-01-05T12:27:06.427530Z",
     "start_time": "2021-01-05T12:27:06.422577Z"
    }
   },
   "outputs": [
    {
     "name": "stdout",
     "output_type": "stream",
     "text": [
      "deque([1, 2, 3, 4, 5])\n",
      "[1, 2, 3, 4, 5]\n"
     ]
    }
   ],
   "source": [
    "from collections import deque\n",
    "\n",
    "data = deque([2, 3, 4])\n",
    "data.appendleft(1)\n",
    "data.append(5)\n",
    "\n",
    "print(data)\n",
    "print(list(data))"
   ]
  },
  {
   "cell_type": "code",
   "execution_count": 9,
   "metadata": {
    "ExecuteTime": {
     "end_time": "2021-12-15T07:35:50.244361Z",
     "start_time": "2021-12-15T07:35:50.222708Z"
    }
   },
   "outputs": [
    {
     "name": "stdout",
     "output_type": "stream",
     "text": [
      "3\n",
      "1\n",
      "{'red': 2, 'blue': 3, 'green': 1}\n",
      "\n",
      "['__add__', '__and__', '__class__', '__contains__', '__delattr__', '__delitem__', '__dict__', '__dir__', '__doc__', '__eq__', '__format__', '__ge__', '__getattribute__', '__getitem__', '__gt__', '__hash__', '__iadd__', '__iand__', '__init__', '__init_subclass__', '__ior__', '__isub__', '__iter__', '__le__', '__len__', '__lt__', '__missing__', '__module__', '__ne__', '__neg__', '__new__', '__or__', '__pos__', '__reduce__', '__reduce_ex__', '__repr__', '__setattr__', '__setitem__', '__sizeof__', '__str__', '__sub__', '__subclasshook__', '__weakref__', '_keep_positive', 'clear', 'copy', 'elements', 'fromkeys', 'get', 'items', 'keys', 'most_common', 'pop', 'popitem', 'setdefault', 'subtract', 'update', 'values']\n",
      "\n",
      "[('blue', 3), ('red', 2), ('green', 1)]\n"
     ]
    }
   ],
   "source": [
    "from collections import Counter\n",
    "\n",
    "counter = Counter(['red', 'blue', 'red', 'green', 'blue', 'blue'])\n",
    "\n",
    "print(counter['blue'])\n",
    "print(counter['green'])\n",
    "print(dict(counter))\n",
    "print()\n",
    "print(dir(counter))\n",
    "print()\n",
    "print(counter.most_common())"
   ]
  }
 ],
 "metadata": {
  "kernelspec": {
   "display_name": "Python 3",
   "language": "python",
   "name": "python3"
  },
  "language_info": {
   "codemirror_mode": {
    "name": "ipython",
    "version": 3
   },
   "file_extension": ".py",
   "mimetype": "text/x-python",
   "name": "python",
   "nbconvert_exporter": "python",
   "pygments_lexer": "ipython3",
   "version": "3.7.6"
  },
  "toc": {
   "base_numbering": 1,
   "nav_menu": {},
   "number_sections": true,
   "sideBar": true,
   "skip_h1_title": false,
   "title_cell": "Table of Contents",
   "title_sidebar": "Contents",
   "toc_cell": false,
   "toc_position": {},
   "toc_section_display": true,
   "toc_window_display": false
  },
  "varInspector": {
   "cols": {
    "lenName": 16,
    "lenType": 16,
    "lenVar": 40
   },
   "kernels_config": {
    "python": {
     "delete_cmd_postfix": "",
     "delete_cmd_prefix": "del ",
     "library": "var_list.py",
     "varRefreshCmd": "print(var_dic_list())"
    },
    "r": {
     "delete_cmd_postfix": ") ",
     "delete_cmd_prefix": "rm(",
     "library": "var_list.r",
     "varRefreshCmd": "cat(var_dic_list()) "
    }
   },
   "types_to_exclude": [
    "module",
    "function",
    "builtin_function_or_method",
    "instance",
    "_Feature"
   ],
   "window_display": false
  }
 },
 "nbformat": 4,
 "nbformat_minor": 4
}
